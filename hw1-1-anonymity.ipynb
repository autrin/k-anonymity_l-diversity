{
 "cells": [
  {
   "cell_type": "code",
   "execution_count": 15,
   "metadata": {},
   "outputs": [],
   "source": [
    "import pandas as pd"
   ]
  },
  {
   "cell_type": "code",
   "execution_count": 16,
   "metadata": {},
   "outputs": [],
   "source": [
    "# Define column names based on the description from 'adult.names'\n",
    "column_names = [\n",
    "    \"age\", \"workclass\", \"fnlwgt\", \"education\", \"education_num\",\n",
    "    \"marital_status\", \"occupation\", \"relationship\", \"race\", \"sex\",\n",
    "    \"capital_gain\", \"capital_loss\", \"hours_per_week\", \"native_country\", \"salary\"\n",
    "]\n",
    "\n",
    "adult_data = pd.read_csv('adult.data', header=None, names=column_names, na_values=\" ?\")\n",
    "\n",
    "adult_test = pd.read_csv('adult.test', header=None, names=column_names, skiprows=1, na_values=\" ?\")\n"
   ]
  },
  {
   "cell_type": "code",
   "execution_count": 17,
   "metadata": {},
   "outputs": [
    {
     "name": "stdout",
     "output_type": "stream",
     "text": [
      "   age          workclass  fnlwgt   education  education_num  \\\n",
      "0   39          State-gov   77516   Bachelors             13   \n",
      "1   50   Self-emp-not-inc   83311   Bachelors             13   \n",
      "2   38            Private  215646     HS-grad              9   \n",
      "3   53            Private  234721        11th              7   \n",
      "4   28            Private  338409   Bachelors             13   \n",
      "\n",
      "        marital_status          occupation    relationship    race      sex  \\\n",
      "0        Never-married        Adm-clerical   Not-in-family   White     Male   \n",
      "1   Married-civ-spouse     Exec-managerial         Husband   White     Male   \n",
      "2             Divorced   Handlers-cleaners   Not-in-family   White     Male   \n",
      "3   Married-civ-spouse   Handlers-cleaners         Husband   Black     Male   \n",
      "4   Married-civ-spouse      Prof-specialty            Wife   Black   Female   \n",
      "\n",
      "   capital_gain  capital_loss  hours_per_week  native_country  salary  \n",
      "0          2174             0              40   United-States   <=50K  \n",
      "1             0             0              13   United-States   <=50K  \n",
      "2             0             0              40   United-States   <=50K  \n",
      "3             0             0              40   United-States   <=50K  \n",
      "4             0             0              40            Cuba   <=50K  \n",
      "   age   workclass  fnlwgt      education  education_num       marital_status  \\\n",
      "0   25     Private  226802           11th              7        Never-married   \n",
      "1   38     Private   89814        HS-grad              9   Married-civ-spouse   \n",
      "2   28   Local-gov  336951     Assoc-acdm             12   Married-civ-spouse   \n",
      "3   44     Private  160323   Some-college             10   Married-civ-spouse   \n",
      "4   18         NaN  103497   Some-college             10        Never-married   \n",
      "\n",
      "           occupation relationship    race      sex  capital_gain  \\\n",
      "0   Machine-op-inspct    Own-child   Black     Male             0   \n",
      "1     Farming-fishing      Husband   White     Male             0   \n",
      "2     Protective-serv      Husband   White     Male             0   \n",
      "3   Machine-op-inspct      Husband   Black     Male          7688   \n",
      "4                 NaN    Own-child   White   Female             0   \n",
      "\n",
      "   capital_loss  hours_per_week  native_country   salary  \n",
      "0             0              40   United-States   <=50K.  \n",
      "1             0              50   United-States   <=50K.  \n",
      "2             0              40   United-States    >50K.  \n",
      "3             0              40   United-States    >50K.  \n",
      "4             0              30   United-States   <=50K.  \n"
     ]
    }
   ],
   "source": [
    "print(adult_data.head())\n",
    "print(adult_test.head())\n"
   ]
  },
  {
   "cell_type": "code",
   "execution_count": 18,
   "metadata": {},
   "outputs": [],
   "source": [
    "with open('adult.names', 'r') as f:\n",
    "    names_content = f.read()\n",
    "\n",
    "# Print the content of the 'adult.names' file\n",
    "# print(names_content)"
   ]
  },
  {
   "cell_type": "code",
   "execution_count": 19,
   "metadata": {},
   "outputs": [
    {
     "name": "stdout",
     "output_type": "stream",
     "text": [
      "0         <=50K\n",
      "1         <=50K\n",
      "2         <=50K\n",
      "3         <=50K\n",
      "4         <=50K\n",
      "          ...  \n",
      "32556     <=50K\n",
      "32557      >50K\n",
      "32558     <=50K\n",
      "32559     <=50K\n",
      "32560      >50K\n",
      "Name: salary, Length: 32561, dtype: object\n"
     ]
    }
   ],
   "source": [
    "print(adult_data['salary'])"
   ]
  },
  {
   "cell_type": "code",
   "execution_count": 20,
   "metadata": {},
   "outputs": [
    {
     "data": {
      "text/plain": [
       "24043    90\n",
       "31696    90\n",
       "18277    90\n",
       "12451    90\n",
       "5406     90\n",
       "         ..\n",
       "12678    17\n",
       "22107    17\n",
       "12838    17\n",
       "3605     17\n",
       "3618     17\n",
       "Name: age, Length: 32561, dtype: int64"
      ]
     },
     "execution_count": 20,
     "metadata": {},
     "output_type": "execute_result"
    }
   ],
   "source": [
    "adult_data['age'].sort_values(ascending=False)"
   ]
  },
  {
   "cell_type": "markdown",
   "metadata": {},
   "source": [
    "Generalize the age based on the hierarchy in hierarchy.txt"
   ]
  },
  {
   "cell_type": "code",
   "execution_count": 21,
   "metadata": {},
   "outputs": [
    {
     "name": "stdout",
     "output_type": "stream",
     "text": [
      "Generalized age at level 2: 90+\n",
      "Generalized age at level 3: 30-49\n"
     ]
    }
   ],
   "source": [
    "def generalize_age(age, level):\n",
    "    if level == 1:\n",
    "        # Level 1: No generalization, return the precise age\n",
    "        return age\n",
    "    elif level == 2:\n",
    "        # Level 2: Group into small age ranges\n",
    "        if 17 <= age <= 19:\n",
    "            return '17-19'\n",
    "        elif 20 <= age <= 29:\n",
    "            return '20-29'\n",
    "        elif 30 <= age <= 39:\n",
    "            return '30-39'\n",
    "        elif 40 <= age <= 49:\n",
    "            return '40-49'\n",
    "        elif 50 <= age <= 59:\n",
    "            return '50-59'\n",
    "        elif 60 <= age <= 69:\n",
    "            return '60-69'\n",
    "        elif 70 <= age <= 79:\n",
    "            return '70-79'\n",
    "        elif 80 <= age <= 89:\n",
    "            return '80-89'\n",
    "        elif age >= 90:\n",
    "            return '90+'\n",
    "    elif level == 3:\n",
    "        # Level 3: Group into medium ranges\n",
    "        if 17 <= age <= 29:\n",
    "            return '17-29'\n",
    "        elif 30 <= age <= 49:\n",
    "            return '30-49'\n",
    "        elif 50 <= age <= 69:\n",
    "            return '50-69'\n",
    "        elif age >= 70:\n",
    "            return '70+'\n",
    "    elif level == 4:\n",
    "        # Level 4: Group into broad categories\n",
    "        if 17 <= age <= 29:\n",
    "            return 'Young Adult (17-29)'\n",
    "        elif 30 <= age <= 49:\n",
    "            return 'Middle Age (30-49)'\n",
    "        elif 50 <= age <= 69:\n",
    "            return 'Senior (50-69)'\n",
    "        elif age >= 70:\n",
    "            return 'Elderly (70+)'\n",
    "    elif level == 5:\n",
    "        # Level 5: Generalize to \"All Ages\"\n",
    "        return 'All Ages'\n",
    "    \n",
    "    return 'All Ages'\n",
    "\n",
    "age = 91\n",
    "generalized_age = generalize_age(age, 2)\n",
    "print(f'Generalized age at level 2: {generalized_age}')\n",
    "\n",
    "age = 35\n",
    "generalized_age = generalize_age(age, 3)\n",
    "print(f'Generalized age at level 3: {generalized_age}')\n"
   ]
  },
  {
   "cell_type": "code",
   "execution_count": 27,
   "metadata": {},
   "outputs": [
    {
     "data": {
      "text/plain": [
       "array([' Bachelors', ' HS-grad', ' 11th', ' Masters', ' 9th',\n",
       "       ' Some-college', ' Assoc-acdm', ' Assoc-voc', ' 7th-8th',\n",
       "       ' Doctorate', ' Prof-school', ' 5th-6th', ' 10th', ' 1st-4th',\n",
       "       ' Preschool', ' 12th'], dtype=object)"
      ]
     },
     "execution_count": 27,
     "metadata": {},
     "output_type": "execute_result"
    }
   ],
   "source": [
    "adult_data['education'].unique()\n"
   ]
  },
  {
   "cell_type": "markdown",
   "metadata": {},
   "source": [
    "Education generaliztion"
   ]
  },
  {
   "cell_type": "code",
   "execution_count": 2,
   "metadata": {},
   "outputs": [
    {
     "name": "stdout",
     "output_type": "stream",
     "text": [
      "Generalized education at level 3: Basic Degree\n"
     ]
    }
   ],
   "source": [
    "def generalize_education(education, level):\n",
    "    education = education.strip()\n",
    "    \n",
    "    if level == 1:\n",
    "        return education\n",
    "    \n",
    "    elif level == 2:\n",
    "        if education in ['Preschool', '1st-4th', '5th-6th']:\n",
    "            return 'Primary School'\n",
    "        elif education in ['7th-8th', '9th']:\n",
    "            return 'Middle School'\n",
    "        elif education in ['10th', '11th', '12th', 'HS-grad']:\n",
    "            return 'High School'\n",
    "        elif education in ['Assoc-voc', 'Prof-school', 'Some-college']:\n",
    "            return 'Vocational School'\n",
    "        elif education in ['Assoc-acdm', 'Bachelors']:\n",
    "            return 'Undergraduate School'\n",
    "        elif education in ['Masters', 'Doctorate']:\n",
    "            return 'Graduate School'\n",
    "    \n",
    "    elif level == 3:\n",
    "        if education in ['Preschool', '1st-4th', '5th-6th', '7th-8th', '9th', '10th', '11th', '12th', 'HS-grad']:\n",
    "            return 'Compulsory School'\n",
    "        elif education in ['Assoc-voc', 'Prof-school', 'Some-college', 'Assoc-acdm', 'Bachelors']:\n",
    "            return 'Basic Degree'\n",
    "        elif education in ['Masters', 'Doctorate']:\n",
    "            return 'Advanced Degree'\n",
    "    \n",
    "    elif level == 4:\n",
    "        if education == 'Compulsory School':\n",
    "            return 'Compulsory School'\n",
    "        elif education in ['Basic Degree', 'Advanced Degree']:\n",
    "            return 'Advanced School'\n",
    "    \n",
    "    elif level == 5:\n",
    "        return 'Education'\n",
    "\n",
    "    return 'Education'\n",
    "\n",
    "education = 'Bachelors'\n",
    "generalized_education = generalize_education(education, 3)\n",
    "print(f'Generalized education at level 3: {generalized_education}')\n"
   ]
  },
  {
   "cell_type": "markdown",
   "metadata": {},
   "source": [
    "Marital Status Generalization"
   ]
  },
  {
   "cell_type": "code",
   "execution_count": 3,
   "metadata": {},
   "outputs": [
    {
     "name": "stdout",
     "output_type": "stream",
     "text": [
      "Generalized marital status at level 3: Married\n"
     ]
    }
   ],
   "source": [
    "def generalize_marital_status(status, level):\n",
    "    status = status.strip()\n",
    "    \n",
    "    if level == 1:\n",
    "        return status\n",
    "    \n",
    "    elif level == 2:\n",
    "        if status in ['Separated', 'Married-spouse-absent']:\n",
    "            return 'Separated-Married'\n",
    "        elif status in ['Never-married', 'Widowed', 'Divorced']:\n",
    "            return 'Single'\n",
    "        elif status in ['Married-civ-spouse', 'Married-AF-spouse']:\n",
    "            return 'Married-Together'\n",
    "    \n",
    "    elif level == 3:\n",
    "        if status in ['Separated', 'Married-spouse-absent', 'Married-civ-spouse', 'Married-AF-spouse']:\n",
    "            return 'Married'\n",
    "        elif status in ['Never-married', 'Widowed', 'Divorced']:\n",
    "            return 'Not-Married'\n",
    "    \n",
    "    elif level == 4:\n",
    "        return '*'\n",
    "    \n",
    "    return '*'\n",
    "\n",
    "marital_status = 'Married-civ-spouse'\n",
    "generalized_status = generalize_marital_status(marital_status, 3)\n",
    "print(f'Generalized marital status at level 3: {generalized_status}')\n"
   ]
  }
 ],
 "metadata": {
  "kernelspec": {
   "display_name": "ahakimi",
   "language": "python",
   "name": "python3"
  },
  "language_info": {
   "codemirror_mode": {
    "name": "ipython",
    "version": 3
   },
   "file_extension": ".py",
   "mimetype": "text/x-python",
   "name": "python",
   "nbconvert_exporter": "python",
   "pygments_lexer": "ipython3",
   "version": "3.12.5"
  }
 },
 "nbformat": 4,
 "nbformat_minor": 2
}
