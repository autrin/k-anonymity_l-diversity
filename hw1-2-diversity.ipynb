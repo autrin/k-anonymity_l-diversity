{
 "cells": [
  {
   "cell_type": "code",
   "execution_count": 9,
   "metadata": {},
   "outputs": [
    {
     "ename": "SyntaxError",
     "evalue": "invalid syntax (1439492683.py, line 4)",
     "output_type": "error",
     "traceback": [
      "\u001b[1;36m  Cell \u001b[1;32mIn[9], line 4\u001b[1;36m\u001b[0m\n\u001b[1;33m    from hw1-1-anonnymity import generalize_education # type: ignore\u001b[0m\n\u001b[1;37m            ^\u001b[0m\n\u001b[1;31mSyntaxError\u001b[0m\u001b[1;31m:\u001b[0m invalid syntax\n"
     ]
    }
   ],
   "source": [
    "import pandas as pd\n",
    "import numpy as np\n",
    "import math\n"
   ]
  },
  {
   "cell_type": "code",
   "execution_count": 3,
   "metadata": {},
   "outputs": [],
   "source": [
    "generalized_data_gt_50k = pd.read_csv('hw1-1-generalized_data_gt_50k_3_3_4_5.csv')\n",
    "generalized_data_le_50k = pd.read_csv('hw1-1-generalized_data_le_50k_2_3_4_5.csv')\n"
   ]
  },
  {
   "cell_type": "code",
   "execution_count": 6,
   "metadata": {},
   "outputs": [
    {
     "name": "stdout",
     "output_type": "stream",
     "text": [
      "Checking >50K dataset for l-diversity:\n",
      "Group ('All Ages', 'Advanced Degree', 'Married', 'Non-Western Origin') fails to meet the entropy l-diversity with entropy 1.0453\n",
      "Group ('All Ages', 'Advanced Degree', 'Not-Married', 'Non-Western Origin') fails to meet the entropy l-diversity with entropy 0.6829\n",
      "2 groups fail to meet the l-diversity requirement.\n"
     ]
    }
   ],
   "source": [
    "def calculate_entropy(group):\n",
    "    \"\"\" Calculate entropy for a single group of records \"\"\"\n",
    "    if len(group) == 0:\n",
    "        return 0\n",
    "    value_counts = group.value_counts()\n",
    "    probabilities = value_counts / value_counts.sum()\n",
    "    entropy = -np.sum(probabilities * np.log(probabilities))\n",
    "    return entropy\n",
    "\n",
    "def check_l_diversity(data, l):\n",
    "    \"\"\" Check if the dataset satisfies l-diversity \"\"\"\n",
    "    entropy_threshold = math.log(l)  # Define the minimum entropy threshold\n",
    "    fails = 0  # Track number of failures\n",
    "    \n",
    "    # Group data by QIs and calculate entropy for each group\n",
    "    grouped = data.groupby(['age', 'education', 'marital_status', 'race'])\n",
    "    for name, group in grouped:\n",
    "        entropy = calculate_entropy(group['occupation'])\n",
    "        if entropy < entropy_threshold:\n",
    "            print(f'Group {name} fails to meet the entropy l-diversity with entropy {entropy:.4f}')\n",
    "            fails += 1\n",
    "    if fails == 0:\n",
    "        print(\"All groups meet the l-diversity requirement.\")\n",
    "        return True\n",
    "    else:\n",
    "        print(f\"{fails} groups fail to meet the l-diversity requirement.\")\n",
    "        return False\n",
    "\n",
    "l = 3\n",
    "print(\"Checking >50K dataset for l-diversity:\")\n",
    "satisfied_l_diversity_gt_50k = check_l_diversity(generalized_data_gt_50k, l)\n"
   ]
  },
  {
   "cell_type": "code",
   "execution_count": 7,
   "metadata": {},
   "outputs": [
    {
     "name": "stdout",
     "output_type": "stream",
     "text": [
      "Checking <=50K dataset for l-diversity:\n",
      "All groups meet the l-diversity requirement.\n"
     ]
    }
   ],
   "source": [
    "\n",
    "print(\"Checking <=50K dataset for l-diversity:\")\n",
    "satisfied_l_diversity_le_50k = check_l_diversity(generalized_data_le_50k, l)"
   ]
  },
  {
   "cell_type": "code",
   "execution_count": 11,
   "metadata": {},
   "outputs": [],
   "source": [
    "# Will need this function to generalize education levels in the next step\n",
    "def generalize_education(education, level):\n",
    "    education = education.strip()\n",
    "    \n",
    "    if level == 1:\n",
    "        return education\n",
    "    \n",
    "    elif level == 2:\n",
    "        if education in ['Preschool', '1st-4th', '5th-6th']:\n",
    "            return 'Primary School'\n",
    "        elif education in ['7th-8th', '9th']:\n",
    "            return 'Middle School'\n",
    "        elif education in ['10th', '11th', '12th', 'HS-grad']:\n",
    "            return 'High School'\n",
    "        elif education in ['Assoc-voc', 'Prof-school', 'Some-college']:\n",
    "            return 'Vocational School'\n",
    "        elif education in ['Assoc-acdm', 'Bachelors']:\n",
    "            return 'Undergraduate School'\n",
    "        elif education in ['Masters', 'Doctorate']:\n",
    "            return 'Graduate School'\n",
    "    \n",
    "    elif level == 3:\n",
    "        if education in ['Preschool', '1st-4th', '5th-6th', '7th-8th', '9th', '10th', '11th', '12th', 'HS-grad']:\n",
    "            return 'Compulsory School'\n",
    "        elif education in ['Assoc-voc', 'Prof-school', 'Some-college', 'Assoc-acdm', 'Bachelors']:\n",
    "            return 'Basic Degree'\n",
    "        elif education in ['Masters', 'Doctorate']:\n",
    "            return 'Advanced Degree'\n",
    "    \n",
    "    elif level == 4:\n",
    "        if education == 'Compulsory School':\n",
    "            return 'Compulsory School'\n",
    "        elif education in ['Basic Degree', 'Advanced Degree']:\n",
    "            return 'Advanced School'\n",
    "    \n",
    "    elif level == 5:\n",
    "        return 'Education'\n",
    "\n",
    "    return 'Education'\n",
    "\n"
   ]
  },
  {
   "cell_type": "markdown",
   "metadata": {},
   "source": [
    "Increase the generalization level for a specific attribute, say 'education'"
   ]
  },
  {
   "cell_type": "code",
   "execution_count": 13,
   "metadata": {},
   "outputs": [
    {
     "name": "stdout",
     "output_type": "stream",
     "text": [
      "Rechecking >50K dataset for l-diversity after adjustment:\n",
      "All groups meet the l-diversity requirement.\n"
     ]
    }
   ],
   "source": [
    "def adjust_generalization(data):\n",
    "    # Modify the generalize_education function or call it with a higher level for specific groups\n",
    "    data['education'] = data.apply(lambda row: generalize_education(row['education'], 4) if row['race'] == 'Non-Western Origin' else row['education'], axis=1)\n",
    "    return data\n",
    "\n",
    "# Apply adjusted generalization\n",
    "generalized_data_gt_50k_adjusted = adjust_generalization(generalized_data_gt_50k.copy())\n",
    "\n",
    "# Check l-diversity again\n",
    "print(\"Rechecking >50K dataset for l-diversity after adjustment:\")\n",
    "satisfied_l_diversity_gt_50k_adjusted = check_l_diversity(generalized_data_gt_50k_adjusted, l)\n",
    "# Save the adjusted dataset\n",
    "generalized_data_gt_50k_adjusted.to_csv('hw1-1-generalized_data_gt_50k_adjusted_for_lDiversity.csv', index=False)\n"
   ]
  }
 ],
 "metadata": {
  "kernelspec": {
   "display_name": "ahakimi",
   "language": "python",
   "name": "python3"
  },
  "language_info": {
   "codemirror_mode": {
    "name": "ipython",
    "version": 3
   },
   "file_extension": ".py",
   "mimetype": "text/x-python",
   "name": "python",
   "nbconvert_exporter": "python",
   "pygments_lexer": "ipython3",
   "version": "3.12.3"
  }
 },
 "nbformat": 4,
 "nbformat_minor": 2
}
