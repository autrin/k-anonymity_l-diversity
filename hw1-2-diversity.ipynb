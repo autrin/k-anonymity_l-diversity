{
 "cells": [
  {
   "cell_type": "code",
   "execution_count": 1,
   "metadata": {},
   "outputs": [],
   "source": [
    "import pandas as pd\n",
    "import numpy as np\n",
    "import math\n"
   ]
  },
  {
   "cell_type": "code",
   "execution_count": 3,
   "metadata": {},
   "outputs": [],
   "source": [
    "generalized_data_gt_50k = pd.read_csv('hw1-1-generalized_data_gt_50k_3_3_4_5.csv')\n",
    "generalized_data_le_50k = pd.read_csv('hw1-1-generalized_data_le_50k_2_3_4_5.csv')\n"
   ]
  },
  {
   "cell_type": "code",
   "execution_count": 6,
   "metadata": {},
   "outputs": [
    {
     "name": "stdout",
     "output_type": "stream",
     "text": [
      "Checking >50K dataset for l-diversity:\n",
      "Group ('All Ages', 'Advanced Degree', 'Married', 'Non-Western Origin') fails to meet the entropy l-diversity with entropy 1.0453\n",
      "Group ('All Ages', 'Advanced Degree', 'Not-Married', 'Non-Western Origin') fails to meet the entropy l-diversity with entropy 0.6829\n",
      "2 groups fail to meet the l-diversity requirement.\n"
     ]
    }
   ],
   "source": [
    "def calculate_entropy(group):\n",
    "    \"\"\" Calculate entropy for a single group of records \"\"\"\n",
    "    if len(group) == 0:\n",
    "        return 0\n",
    "    value_counts = group.value_counts()\n",
    "    probabilities = value_counts / value_counts.sum()\n",
    "    entropy = -np.sum(probabilities * np.log(probabilities))\n",
    "    return entropy\n",
    "\n",
    "def check_l_diversity(data, l):\n",
    "    \"\"\" Check if the dataset satisfies l-diversity \"\"\"\n",
    "    entropy_threshold = math.log(l)  # Define the minimum entropy threshold\n",
    "    fails = 0  # Track number of failures\n",
    "    \n",
    "    # Group data by QIs and calculate entropy for each group\n",
    "    grouped = data.groupby(['age', 'education', 'marital_status', 'race'])\n",
    "    for name, group in grouped:\n",
    "        entropy = calculate_entropy(group['occupation'])\n",
    "        if entropy < entropy_threshold:\n",
    "            print(f'Group {name} fails to meet the entropy l-diversity with entropy {entropy:.4f}')\n",
    "            fails += 1\n",
    "    if fails == 0:\n",
    "        print(\"All groups meet the l-diversity requirement.\")\n",
    "        return True\n",
    "    else:\n",
    "        print(f\"{fails} groups fail to meet the l-diversity requirement.\")\n",
    "        return False\n",
    "\n",
    "l = 3\n",
    "print(\"Checking >50K dataset for l-diversity:\")\n",
    "satisfied_l_diversity_gt_50k = check_l_diversity(generalized_data_gt_50k, l)\n"
   ]
  },
  {
   "cell_type": "code",
   "execution_count": 7,
   "metadata": {},
   "outputs": [
    {
     "name": "stdout",
     "output_type": "stream",
     "text": [
      "Checking <=50K dataset for l-diversity:\n",
      "All groups meet the l-diversity requirement.\n"
     ]
    }
   ],
   "source": [
    "\n",
    "print(\"Checking <=50K dataset for l-diversity:\")\n",
    "satisfied_l_diversity_le_50k = check_l_diversity(generalized_data_le_50k, l)"
   ]
  }
 ],
 "metadata": {
  "kernelspec": {
   "display_name": "ahakimi",
   "language": "python",
   "name": "python3"
  },
  "language_info": {
   "codemirror_mode": {
    "name": "ipython",
    "version": 3
   },
   "file_extension": ".py",
   "mimetype": "text/x-python",
   "name": "python",
   "nbconvert_exporter": "python",
   "pygments_lexer": "ipython3",
   "version": "3.12.3"
  }
 },
 "nbformat": 4,
 "nbformat_minor": 2
}
