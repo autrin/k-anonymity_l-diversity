{
 "cells": [
  {
   "cell_type": "code",
   "execution_count": 14,
   "metadata": {},
   "outputs": [],
   "source": [
    "import pandas as pd\n",
    "import numpy as np\n",
    "import math\n"
   ]
  },
  {
   "cell_type": "code",
   "execution_count": 15,
   "metadata": {},
   "outputs": [],
   "source": [
    "# Define column names based on the description from 'adult.names'\n",
    "column_names = [\n",
    "    \"age\", \"workclass\", \"fnlwgt\", \"education\", \"education_num\",\n",
    "    \"marital_status\", \"occupation\", \"relationship\", \"race\", \"sex\",\n",
    "    \"capital_gain\", \"capital_loss\", \"hours_per_week\", \"native_country\", \"salary\"\n",
    "]\n",
    "\n",
    "adult_data = pd.read_csv('adult.data', header=None, names=column_names, na_values=\" ?\")\n",
    "\n",
    "adult_test = pd.read_csv('adult.test', header=None, names=column_names, skiprows=1, na_values=\" ?\") # skipping the first line bc it was not important\n"
   ]
  },
  {
   "cell_type": "code",
   "execution_count": 16,
   "metadata": {},
   "outputs": [],
   "source": [
    "# Replace NaN in the 'occupation' column with 'Unknown'\n",
    "adult_data.fillna({'occupation':'Unknown'}, inplace=True)"
   ]
  },
  {
   "cell_type": "code",
   "execution_count": 17,
   "metadata": {},
   "outputs": [
    {
     "name": "stdout",
     "output_type": "stream",
     "text": [
      "age                  0\n",
      "workclass         1836\n",
      "fnlwgt               0\n",
      "education            0\n",
      "education_num        0\n",
      "marital_status       0\n",
      "occupation           0\n",
      "relationship         0\n",
      "race                 0\n",
      "sex                  0\n",
      "capital_gain         0\n",
      "capital_loss         0\n",
      "hours_per_week       0\n",
      "native_country     583\n",
      "salary               0\n",
      "dtype: int64\n"
     ]
    }
   ],
   "source": [
    "print(adult_data.isnull().sum())"
   ]
  },
  {
   "cell_type": "code",
   "execution_count": 18,
   "metadata": {},
   "outputs": [
    {
     "name": "stdout",
     "output_type": "stream",
     "text": [
      "   age          workclass  fnlwgt   education  education_num  \\\n",
      "0   39          State-gov   77516   Bachelors             13   \n",
      "1   50   Self-emp-not-inc   83311   Bachelors             13   \n",
      "2   38            Private  215646     HS-grad              9   \n",
      "3   53            Private  234721        11th              7   \n",
      "4   28            Private  338409   Bachelors             13   \n",
      "\n",
      "        marital_status          occupation    relationship    race      sex  \\\n",
      "0        Never-married        Adm-clerical   Not-in-family   White     Male   \n",
      "1   Married-civ-spouse     Exec-managerial         Husband   White     Male   \n",
      "2             Divorced   Handlers-cleaners   Not-in-family   White     Male   \n",
      "3   Married-civ-spouse   Handlers-cleaners         Husband   Black     Male   \n",
      "4   Married-civ-spouse      Prof-specialty            Wife   Black   Female   \n",
      "\n",
      "   capital_gain  capital_loss  hours_per_week  native_country  salary  \n",
      "0          2174             0              40   United-States   <=50K  \n",
      "1             0             0              13   United-States   <=50K  \n",
      "2             0             0              40   United-States   <=50K  \n",
      "3             0             0              40   United-States   <=50K  \n",
      "4             0             0              40            Cuba   <=50K  \n",
      "   age   workclass  fnlwgt      education  education_num       marital_status  \\\n",
      "0   25     Private  226802           11th              7        Never-married   \n",
      "1   38     Private   89814        HS-grad              9   Married-civ-spouse   \n",
      "2   28   Local-gov  336951     Assoc-acdm             12   Married-civ-spouse   \n",
      "3   44     Private  160323   Some-college             10   Married-civ-spouse   \n",
      "4   18         NaN  103497   Some-college             10        Never-married   \n",
      "\n",
      "           occupation relationship    race      sex  capital_gain  \\\n",
      "0   Machine-op-inspct    Own-child   Black     Male             0   \n",
      "1     Farming-fishing      Husband   White     Male             0   \n",
      "2     Protective-serv      Husband   White     Male             0   \n",
      "3   Machine-op-inspct      Husband   Black     Male          7688   \n",
      "4                 NaN    Own-child   White   Female             0   \n",
      "\n",
      "   capital_loss  hours_per_week  native_country   salary  \n",
      "0             0              40   United-States   <=50K.  \n",
      "1             0              50   United-States   <=50K.  \n",
      "2             0              40   United-States    >50K.  \n",
      "3             0              40   United-States    >50K.  \n",
      "4             0              30   United-States   <=50K.  \n"
     ]
    }
   ],
   "source": [
    "print(adult_data.head())\n",
    "print(adult_test.head())\n"
   ]
  },
  {
   "cell_type": "code",
   "execution_count": 19,
   "metadata": {},
   "outputs": [],
   "source": [
    "with open('adult.names', 'r') as f:\n",
    "    names_content = f.read()\n",
    "\n",
    "# Print the content of the 'adult.names' file\n",
    "# print(names_content)"
   ]
  },
  {
   "cell_type": "code",
   "execution_count": 20,
   "metadata": {},
   "outputs": [
    {
     "name": "stdout",
     "output_type": "stream",
     "text": [
      "0         <=50K\n",
      "1         <=50K\n",
      "2         <=50K\n",
      "3         <=50K\n",
      "4         <=50K\n",
      "          ...  \n",
      "32556     <=50K\n",
      "32557      >50K\n",
      "32558     <=50K\n",
      "32559     <=50K\n",
      "32560      >50K\n",
      "Name: salary, Length: 32561, dtype: object\n"
     ]
    }
   ],
   "source": [
    "print(adult_data['salary'])"
   ]
  },
  {
   "cell_type": "code",
   "execution_count": 21,
   "metadata": {},
   "outputs": [
    {
     "data": {
      "text/plain": [
       "24043    90\n",
       "31696    90\n",
       "18277    90\n",
       "12451    90\n",
       "5406     90\n",
       "         ..\n",
       "12678    17\n",
       "22107    17\n",
       "12838    17\n",
       "3605     17\n",
       "3618     17\n",
       "Name: age, Length: 32561, dtype: int64"
      ]
     },
     "execution_count": 21,
     "metadata": {},
     "output_type": "execute_result"
    }
   ],
   "source": [
    "adult_data['age'].sort_values(ascending=False)"
   ]
  },
  {
   "cell_type": "markdown",
   "metadata": {},
   "source": [
    "Generalize the age based on the hierarchy in hierarchy.txt"
   ]
  },
  {
   "cell_type": "code",
   "execution_count": 22,
   "metadata": {},
   "outputs": [
    {
     "name": "stdout",
     "output_type": "stream",
     "text": [
      "Generalized age at level 2: 90+\n",
      "Generalized age at level 3: 30-49\n"
     ]
    }
   ],
   "source": [
    "def generalize_age(age, level):\n",
    "    if level == 1:\n",
    "        # Level 1: No generalization, return the precise age\n",
    "        return age\n",
    "    elif level == 2:\n",
    "        # Level 2: Group into small age ranges\n",
    "        if 17 <= age <= 19:\n",
    "            return '17-19'\n",
    "        elif 20 <= age <= 29:\n",
    "            return '20-29'\n",
    "        elif 30 <= age <= 39:\n",
    "            return '30-39'\n",
    "        elif 40 <= age <= 49:\n",
    "            return '40-49'\n",
    "        elif 50 <= age <= 59:\n",
    "            return '50-59'\n",
    "        elif 60 <= age <= 69:\n",
    "            return '60-69'\n",
    "        elif 70 <= age <= 79:\n",
    "            return '70-79'\n",
    "        elif 80 <= age <= 89:\n",
    "            return '80-89'\n",
    "        elif age >= 90:\n",
    "            return '90+'\n",
    "    elif level == 3:\n",
    "        # Level 3: Group into medium ranges\n",
    "        if 17 <= age <= 29:\n",
    "            return '17-29'\n",
    "        elif 30 <= age <= 49:\n",
    "            return '30-49'\n",
    "        elif 50 <= age <= 69:\n",
    "            return '50-69'\n",
    "        elif age >= 70:\n",
    "            return '70+'\n",
    "    elif level == 4:\n",
    "        # Level 4: Group into broad categories\n",
    "        if 17 <= age <= 29:\n",
    "            return 'Young Adult (17-29)'\n",
    "        elif 30 <= age <= 49:\n",
    "            return 'Middle Age (30-49)'\n",
    "        elif 50 <= age <= 69:\n",
    "            return 'Senior (50-69)'\n",
    "        elif age >= 70:\n",
    "            return 'Elderly (70+)'\n",
    "    elif level == 5:\n",
    "        # Level 5: Generalize to \"All Ages\"\n",
    "        return 'All Ages'\n",
    "    \n",
    "    return 'All Ages'\n",
    "\n",
    "age = 91\n",
    "generalized_age = generalize_age(age, 2)\n",
    "print(f'Generalized age at level 2: {generalized_age}')\n",
    "\n",
    "age = 35\n",
    "generalized_age = generalize_age(age, 3)\n",
    "print(f'Generalized age at level 3: {generalized_age}')\n"
   ]
  },
  {
   "cell_type": "code",
   "execution_count": 23,
   "metadata": {},
   "outputs": [
    {
     "data": {
      "text/plain": [
       "array([' Bachelors', ' HS-grad', ' 11th', ' Masters', ' 9th',\n",
       "       ' Some-college', ' Assoc-acdm', ' Assoc-voc', ' 7th-8th',\n",
       "       ' Doctorate', ' Prof-school', ' 5th-6th', ' 10th', ' 1st-4th',\n",
       "       ' Preschool', ' 12th'], dtype=object)"
      ]
     },
     "execution_count": 23,
     "metadata": {},
     "output_type": "execute_result"
    }
   ],
   "source": [
    "adult_data['education'].unique()\n"
   ]
  },
  {
   "cell_type": "markdown",
   "metadata": {},
   "source": [
    "Education generaliztion"
   ]
  },
  {
   "cell_type": "code",
   "execution_count": 24,
   "metadata": {},
   "outputs": [
    {
     "name": "stdout",
     "output_type": "stream",
     "text": [
      "Generalized education at level 3: Basic Degree\n"
     ]
    }
   ],
   "source": [
    "def generalize_education(education, level):\n",
    "    education = education.strip()\n",
    "    \n",
    "    if level == 1:\n",
    "        return education\n",
    "    \n",
    "    elif level == 2:\n",
    "        if education in ['Preschool', '1st-4th', '5th-6th']:\n",
    "            return 'Primary School'\n",
    "        elif education in ['7th-8th', '9th']:\n",
    "            return 'Middle School'\n",
    "        elif education in ['10th', '11th', '12th', 'HS-grad']:\n",
    "            return 'High School'\n",
    "        elif education in ['Assoc-voc', 'Prof-school', 'Some-college']:\n",
    "            return 'Vocational School'\n",
    "        elif education in ['Assoc-acdm', 'Bachelors']:\n",
    "            return 'Undergraduate School'\n",
    "        elif education in ['Masters', 'Doctorate']:\n",
    "            return 'Graduate School'\n",
    "    \n",
    "    elif level == 3:\n",
    "        if education in ['Preschool', '1st-4th', '5th-6th', '7th-8th', '9th', '10th', '11th', '12th', 'HS-grad']:\n",
    "            return 'Compulsory School'\n",
    "        elif education in ['Assoc-voc', 'Prof-school', 'Some-college', 'Assoc-acdm', 'Bachelors']:\n",
    "            return 'Basic Degree'\n",
    "        elif education in ['Masters', 'Doctorate']:\n",
    "            return 'Advanced Degree'\n",
    "    \n",
    "    elif level == 4:\n",
    "        if education == 'Compulsory School':\n",
    "            return 'Compulsory School'\n",
    "        elif education in ['Basic Degree', 'Advanced Degree']:\n",
    "            return 'Advanced School'\n",
    "    \n",
    "    elif level == 5:\n",
    "        return 'Education'\n",
    "\n",
    "    return 'Education'\n",
    "\n",
    "education = 'Bachelors'\n",
    "generalized_education = generalize_education(education, 3)\n",
    "print(f'Generalized education at level 3: {generalized_education}')\n"
   ]
  },
  {
   "cell_type": "markdown",
   "metadata": {},
   "source": [
    "Marital Status Generalization"
   ]
  },
  {
   "cell_type": "code",
   "execution_count": 25,
   "metadata": {},
   "outputs": [
    {
     "name": "stdout",
     "output_type": "stream",
     "text": [
      "Generalized marital status at level 3: Married\n"
     ]
    }
   ],
   "source": [
    "def generalize_marital_status(status, level):\n",
    "    status = status.strip()\n",
    "    \n",
    "    if level == 1:\n",
    "        return status\n",
    "    \n",
    "    elif level == 2:\n",
    "        if status in ['Separated', 'Married-spouse-absent']:\n",
    "            return 'Separated-Married'\n",
    "        elif status in ['Never-married', 'Widowed', 'Divorced']:\n",
    "            return 'Single'\n",
    "        elif status in ['Married-civ-spouse', 'Married-AF-spouse']:\n",
    "            return 'Married-Together'\n",
    "    \n",
    "    elif level == 3:\n",
    "        if status in ['Separated', 'Married-spouse-absent', 'Married-civ-spouse', 'Married-AF-spouse']:\n",
    "            return 'Married'\n",
    "        elif status in ['Never-married', 'Widowed', 'Divorced']:\n",
    "            return 'Not-Married'\n",
    "    \n",
    "    elif level == 4:\n",
    "        return '*'\n",
    "    \n",
    "    return '*'\n",
    "\n",
    "marital_status = 'Married-civ-spouse'\n",
    "generalized_status = generalize_marital_status(marital_status, 3)\n",
    "print(f'Generalized marital status at level 3: {generalized_status}')\n"
   ]
  },
  {
   "cell_type": "markdown",
   "metadata": {},
   "source": [
    "Race Generalization"
   ]
  },
  {
   "cell_type": "code",
   "execution_count": 26,
   "metadata": {},
   "outputs": [
    {
     "name": "stdout",
     "output_type": "stream",
     "text": [
      "Generalized race at level 3: Eastern Origin\n"
     ]
    }
   ],
   "source": [
    "def generalize_race(race, level):\n",
    "    race = race.strip()\n",
    "    \n",
    "    if level == 1:\n",
    "        return race\n",
    "    \n",
    "    elif level == 2:\n",
    "        if race == 'White':\n",
    "            return 'Caucasian'\n",
    "        elif race == 'Asian-Pac-Islander':\n",
    "            return 'Asian'\n",
    "        elif race == 'Amer-Indian-Eskimo':\n",
    "            return 'Indigenous'\n",
    "        elif race == 'Black':\n",
    "            return 'African Descent'\n",
    "        elif race == 'Other':\n",
    "            return 'Other'\n",
    "    \n",
    "    elif level == 3:\n",
    "        if race in ['White', 'Black']:\n",
    "            return 'Western Origin'\n",
    "        elif race in ['Asian-Pac-Islander', 'Amer-Indian-Eskimo']:\n",
    "            return 'Eastern Origin'\n",
    "        elif race == 'Other':\n",
    "            return 'Other'\n",
    "    \n",
    "    elif level == 4:\n",
    "        if race in ['White', 'Black']:\n",
    "            return 'Western Origin'\n",
    "        else:\n",
    "            return 'Non-Western Origin'\n",
    "    \n",
    "    elif level == 5:\n",
    "        return 'Race'\n",
    "\n",
    "race = 'Asian-Pac-Islander'\n",
    "generalized_race = generalize_race(race, 3)\n",
    "print(f'Generalized race at level 3: {generalized_race}')"
   ]
  },
  {
   "cell_type": "code",
   "execution_count": 27,
   "metadata": {},
   "outputs": [
    {
     "data": {
      "text/html": [
       "<div>\n",
       "<style scoped>\n",
       "    .dataframe tbody tr th:only-of-type {\n",
       "        vertical-align: middle;\n",
       "    }\n",
       "\n",
       "    .dataframe tbody tr th {\n",
       "        vertical-align: top;\n",
       "    }\n",
       "\n",
       "    .dataframe thead th {\n",
       "        text-align: right;\n",
       "    }\n",
       "</style>\n",
       "<table border=\"1\" class=\"dataframe\">\n",
       "  <thead>\n",
       "    <tr style=\"text-align: right;\">\n",
       "      <th></th>\n",
       "      <th>age</th>\n",
       "      <th>workclass</th>\n",
       "      <th>fnlwgt</th>\n",
       "      <th>education</th>\n",
       "      <th>education_num</th>\n",
       "      <th>marital_status</th>\n",
       "      <th>occupation</th>\n",
       "      <th>relationship</th>\n",
       "      <th>race</th>\n",
       "      <th>sex</th>\n",
       "      <th>capital_gain</th>\n",
       "      <th>capital_loss</th>\n",
       "      <th>hours_per_week</th>\n",
       "      <th>native_country</th>\n",
       "      <th>salary</th>\n",
       "    </tr>\n",
       "  </thead>\n",
       "  <tbody>\n",
       "    <tr>\n",
       "      <th>0</th>\n",
       "      <td>39</td>\n",
       "      <td>State-gov</td>\n",
       "      <td>77516</td>\n",
       "      <td>Bachelors</td>\n",
       "      <td>13</td>\n",
       "      <td>Never-married</td>\n",
       "      <td>Adm-clerical</td>\n",
       "      <td>Not-in-family</td>\n",
       "      <td>White</td>\n",
       "      <td>Male</td>\n",
       "      <td>2174</td>\n",
       "      <td>0</td>\n",
       "      <td>40</td>\n",
       "      <td>United-States</td>\n",
       "      <td>&lt;=50K</td>\n",
       "    </tr>\n",
       "    <tr>\n",
       "      <th>1</th>\n",
       "      <td>50</td>\n",
       "      <td>Self-emp-not-inc</td>\n",
       "      <td>83311</td>\n",
       "      <td>Bachelors</td>\n",
       "      <td>13</td>\n",
       "      <td>Married-civ-spouse</td>\n",
       "      <td>Exec-managerial</td>\n",
       "      <td>Husband</td>\n",
       "      <td>White</td>\n",
       "      <td>Male</td>\n",
       "      <td>0</td>\n",
       "      <td>0</td>\n",
       "      <td>13</td>\n",
       "      <td>United-States</td>\n",
       "      <td>&lt;=50K</td>\n",
       "    </tr>\n",
       "    <tr>\n",
       "      <th>2</th>\n",
       "      <td>38</td>\n",
       "      <td>Private</td>\n",
       "      <td>215646</td>\n",
       "      <td>HS-grad</td>\n",
       "      <td>9</td>\n",
       "      <td>Divorced</td>\n",
       "      <td>Handlers-cleaners</td>\n",
       "      <td>Not-in-family</td>\n",
       "      <td>White</td>\n",
       "      <td>Male</td>\n",
       "      <td>0</td>\n",
       "      <td>0</td>\n",
       "      <td>40</td>\n",
       "      <td>United-States</td>\n",
       "      <td>&lt;=50K</td>\n",
       "    </tr>\n",
       "    <tr>\n",
       "      <th>3</th>\n",
       "      <td>53</td>\n",
       "      <td>Private</td>\n",
       "      <td>234721</td>\n",
       "      <td>11th</td>\n",
       "      <td>7</td>\n",
       "      <td>Married-civ-spouse</td>\n",
       "      <td>Handlers-cleaners</td>\n",
       "      <td>Husband</td>\n",
       "      <td>Black</td>\n",
       "      <td>Male</td>\n",
       "      <td>0</td>\n",
       "      <td>0</td>\n",
       "      <td>40</td>\n",
       "      <td>United-States</td>\n",
       "      <td>&lt;=50K</td>\n",
       "    </tr>\n",
       "    <tr>\n",
       "      <th>4</th>\n",
       "      <td>28</td>\n",
       "      <td>Private</td>\n",
       "      <td>338409</td>\n",
       "      <td>Bachelors</td>\n",
       "      <td>13</td>\n",
       "      <td>Married-civ-spouse</td>\n",
       "      <td>Prof-specialty</td>\n",
       "      <td>Wife</td>\n",
       "      <td>Black</td>\n",
       "      <td>Female</td>\n",
       "      <td>0</td>\n",
       "      <td>0</td>\n",
       "      <td>40</td>\n",
       "      <td>Cuba</td>\n",
       "      <td>&lt;=50K</td>\n",
       "    </tr>\n",
       "    <tr>\n",
       "      <th>...</th>\n",
       "      <td>...</td>\n",
       "      <td>...</td>\n",
       "      <td>...</td>\n",
       "      <td>...</td>\n",
       "      <td>...</td>\n",
       "      <td>...</td>\n",
       "      <td>...</td>\n",
       "      <td>...</td>\n",
       "      <td>...</td>\n",
       "      <td>...</td>\n",
       "      <td>...</td>\n",
       "      <td>...</td>\n",
       "      <td>...</td>\n",
       "      <td>...</td>\n",
       "      <td>...</td>\n",
       "    </tr>\n",
       "    <tr>\n",
       "      <th>32556</th>\n",
       "      <td>27</td>\n",
       "      <td>Private</td>\n",
       "      <td>257302</td>\n",
       "      <td>Assoc-acdm</td>\n",
       "      <td>12</td>\n",
       "      <td>Married-civ-spouse</td>\n",
       "      <td>Tech-support</td>\n",
       "      <td>Wife</td>\n",
       "      <td>White</td>\n",
       "      <td>Female</td>\n",
       "      <td>0</td>\n",
       "      <td>0</td>\n",
       "      <td>38</td>\n",
       "      <td>United-States</td>\n",
       "      <td>&lt;=50K</td>\n",
       "    </tr>\n",
       "    <tr>\n",
       "      <th>32557</th>\n",
       "      <td>40</td>\n",
       "      <td>Private</td>\n",
       "      <td>154374</td>\n",
       "      <td>HS-grad</td>\n",
       "      <td>9</td>\n",
       "      <td>Married-civ-spouse</td>\n",
       "      <td>Machine-op-inspct</td>\n",
       "      <td>Husband</td>\n",
       "      <td>White</td>\n",
       "      <td>Male</td>\n",
       "      <td>0</td>\n",
       "      <td>0</td>\n",
       "      <td>40</td>\n",
       "      <td>United-States</td>\n",
       "      <td>&gt;50K</td>\n",
       "    </tr>\n",
       "    <tr>\n",
       "      <th>32558</th>\n",
       "      <td>58</td>\n",
       "      <td>Private</td>\n",
       "      <td>151910</td>\n",
       "      <td>HS-grad</td>\n",
       "      <td>9</td>\n",
       "      <td>Widowed</td>\n",
       "      <td>Adm-clerical</td>\n",
       "      <td>Unmarried</td>\n",
       "      <td>White</td>\n",
       "      <td>Female</td>\n",
       "      <td>0</td>\n",
       "      <td>0</td>\n",
       "      <td>40</td>\n",
       "      <td>United-States</td>\n",
       "      <td>&lt;=50K</td>\n",
       "    </tr>\n",
       "    <tr>\n",
       "      <th>32559</th>\n",
       "      <td>22</td>\n",
       "      <td>Private</td>\n",
       "      <td>201490</td>\n",
       "      <td>HS-grad</td>\n",
       "      <td>9</td>\n",
       "      <td>Never-married</td>\n",
       "      <td>Adm-clerical</td>\n",
       "      <td>Own-child</td>\n",
       "      <td>White</td>\n",
       "      <td>Male</td>\n",
       "      <td>0</td>\n",
       "      <td>0</td>\n",
       "      <td>20</td>\n",
       "      <td>United-States</td>\n",
       "      <td>&lt;=50K</td>\n",
       "    </tr>\n",
       "    <tr>\n",
       "      <th>32560</th>\n",
       "      <td>52</td>\n",
       "      <td>Self-emp-inc</td>\n",
       "      <td>287927</td>\n",
       "      <td>HS-grad</td>\n",
       "      <td>9</td>\n",
       "      <td>Married-civ-spouse</td>\n",
       "      <td>Exec-managerial</td>\n",
       "      <td>Wife</td>\n",
       "      <td>White</td>\n",
       "      <td>Female</td>\n",
       "      <td>15024</td>\n",
       "      <td>0</td>\n",
       "      <td>40</td>\n",
       "      <td>United-States</td>\n",
       "      <td>&gt;50K</td>\n",
       "    </tr>\n",
       "  </tbody>\n",
       "</table>\n",
       "<p>32561 rows × 15 columns</p>\n",
       "</div>"
      ],
      "text/plain": [
       "       age          workclass  fnlwgt    education  education_num  \\\n",
       "0       39          State-gov   77516    Bachelors             13   \n",
       "1       50   Self-emp-not-inc   83311    Bachelors             13   \n",
       "2       38            Private  215646      HS-grad              9   \n",
       "3       53            Private  234721         11th              7   \n",
       "4       28            Private  338409    Bachelors             13   \n",
       "...    ...                ...     ...          ...            ...   \n",
       "32556   27            Private  257302   Assoc-acdm             12   \n",
       "32557   40            Private  154374      HS-grad              9   \n",
       "32558   58            Private  151910      HS-grad              9   \n",
       "32559   22            Private  201490      HS-grad              9   \n",
       "32560   52       Self-emp-inc  287927      HS-grad              9   \n",
       "\n",
       "            marital_status          occupation    relationship    race  \\\n",
       "0            Never-married        Adm-clerical   Not-in-family   White   \n",
       "1       Married-civ-spouse     Exec-managerial         Husband   White   \n",
       "2                 Divorced   Handlers-cleaners   Not-in-family   White   \n",
       "3       Married-civ-spouse   Handlers-cleaners         Husband   Black   \n",
       "4       Married-civ-spouse      Prof-specialty            Wife   Black   \n",
       "...                    ...                 ...             ...     ...   \n",
       "32556   Married-civ-spouse        Tech-support            Wife   White   \n",
       "32557   Married-civ-spouse   Machine-op-inspct         Husband   White   \n",
       "32558              Widowed        Adm-clerical       Unmarried   White   \n",
       "32559        Never-married        Adm-clerical       Own-child   White   \n",
       "32560   Married-civ-spouse     Exec-managerial            Wife   White   \n",
       "\n",
       "           sex  capital_gain  capital_loss  hours_per_week  native_country  \\\n",
       "0         Male          2174             0              40   United-States   \n",
       "1         Male             0             0              13   United-States   \n",
       "2         Male             0             0              40   United-States   \n",
       "3         Male             0             0              40   United-States   \n",
       "4       Female             0             0              40            Cuba   \n",
       "...        ...           ...           ...             ...             ...   \n",
       "32556   Female             0             0              38   United-States   \n",
       "32557     Male             0             0              40   United-States   \n",
       "32558   Female             0             0              40   United-States   \n",
       "32559     Male             0             0              20   United-States   \n",
       "32560   Female         15024             0              40   United-States   \n",
       "\n",
       "       salary  \n",
       "0       <=50K  \n",
       "1       <=50K  \n",
       "2       <=50K  \n",
       "3       <=50K  \n",
       "4       <=50K  \n",
       "...       ...  \n",
       "32556   <=50K  \n",
       "32557    >50K  \n",
       "32558   <=50K  \n",
       "32559   <=50K  \n",
       "32560    >50K  \n",
       "\n",
       "[32561 rows x 15 columns]"
      ]
     },
     "execution_count": 27,
     "metadata": {},
     "output_type": "execute_result"
    }
   ],
   "source": [
    "# create a diffent dataset with the generalized data\n",
    "generalized_data = adult_data.copy()\n",
    "generalized_data # will be generalized in the next steps"
   ]
  },
  {
   "cell_type": "code",
   "execution_count": 28,
   "metadata": {},
   "outputs": [],
   "source": [
    "def generalize_QIs(data, educationLevel, maritalStatusLevel, raceLevel, ageLevel):\n",
    "    data['age'] = data['age'].apply(lambda x : generalize_age(x, ageLevel)) \n",
    "    data['education'] = data['education'].apply(lambda x : generalize_education(x, educationLevel))\n",
    "    data['marital_status'] = data['marital_status'].apply(lambda x : generalize_marital_status(x, maritalStatusLevel))\n",
    "    data['race'] = data['race'].apply(lambda x : generalize_race(x, raceLevel))\n",
    "    return data"
   ]
  },
  {
   "cell_type": "code",
   "execution_count": 29,
   "metadata": {},
   "outputs": [],
   "source": [
    "\n",
    "def check_k_anonymity_le50(data, k1):\n",
    "    \"\"\"\n",
    "    Check if the dataset meets the k-anonymity requirement.\n",
    "    \n",
    "    :param data: The dataset to check.\n",
    "    :param k1: The k-anonymity level for users with salaries ≤ 50K.\n",
    "    :param k2: The k-anonymity level for users with salaries > 50K.\n",
    "    :return: True if the dataset meets the k-anonymity requirement, False otherwise.\n",
    "    \"\"\"\n",
    "    # Print unique values in the salary column for debugging\n",
    "    # print(\"Unique salary values:\", data['salary'].unique())\n",
    "    \n",
    "    # Split the dataset into two parts based on the salary\n",
    "    data_le_50k = data[data['salary'] == ' <=50K']\n",
    "    \n",
    "    # Print the number of rows in each part for debugging\n",
    "    # print(\"Number of rows with salary <= 50K:\", len(data_le_50k))\n",
    "    # print(\"Number of rows with salary > 50K:\", len(data_gt_50k))\n",
    "    \n",
    "    # Group by QIs for each part\n",
    "    grouped_le_50k = data_le_50k.groupby(['age', 'education', 'marital_status', 'race'])\n",
    "    \n",
    "    # Check k-anonymity for users with salaries ≤ 50K\n",
    "    for _, group in grouped_le_50k:\n",
    "        if len(group) < k1:\n",
    "            return False, data_le_50k\n",
    "    \n",
    "    \n",
    "    \n",
    "    return True, data_le_50k"
   ]
  },
  {
   "cell_type": "code",
   "execution_count": 30,
   "metadata": {},
   "outputs": [],
   "source": [
    "\n",
    "def check_k_anonymity_gt50(data, k2):\n",
    "    \"\"\"\n",
    "    Check if the dataset meets the k-anonymity requirement.\n",
    "    \n",
    "    :param data: The dataset to check.\n",
    "    :param k1: The k-anonymity level for users with salaries ≤ 50K.\n",
    "    :param k2: The k-anonymity level for users with salaries > 50K.\n",
    "    :return: True if the dataset meets the k-anonymity requirement, False otherwise.\n",
    "    \"\"\"\n",
    "    # Print unique values in the salary column for debugging\n",
    "    # print(\"Unique salary values:\", data['salary'].unique())\n",
    "    \n",
    "    # Split the dataset into two parts based on the salary\n",
    "    data_gt_50k = data[data['salary'] == ' >50K']\n",
    "    \n",
    "    # Print the number of rows in each part for debugging\n",
    "    # print(\"Number of rows with salary <= 50K:\", len(data_le_50k))\n",
    "    # print(\"Number of rows with salary > 50K:\", len(data_gt_50k))\n",
    "    \n",
    "    # Group by QIs for each part\n",
    "    grouped_gt_50k = data_gt_50k.groupby(['age', 'education', 'marital_status', 'race'])\n",
    "    \n",
    "    \n",
    "    # Check k-anonymity for users with salaries > 50K\n",
    "    for _, group in grouped_gt_50k:\n",
    "        if len(group) < k2:\n",
    "            return False, data_gt_50k\n",
    "    \n",
    "    return True, data_gt_50k"
   ]
  },
  {
   "cell_type": "markdown",
   "metadata": {},
   "source": [
    "Generalizing the data with salary of <=50k while meeting the k-anonymity requirements"
   ]
  },
  {
   "cell_type": "code",
   "execution_count": 31,
   "metadata": {},
   "outputs": [
    {
     "name": "stdout",
     "output_type": "stream",
     "text": [
      "Generalization levels for <=50k dataset: Race=2, Education=3, Marital Status=4, Age=5\n"
     ]
    }
   ],
   "source": [
    "# Max level of generalization for Race, Education, Marital Status, Age is 5, 5, 4, 5 respectively.\n",
    "# Also attributes can have different levels of generalization in the same dataset\n",
    "generalized_data = adult_data.copy()\n",
    "k1 = 10\n",
    "k2 = 5\n",
    "\n",
    "found = False\n",
    "global gen_levels\n",
    "for i in range(2, 6):\n",
    "    for j in range(2, 6):\n",
    "        for k in range(2, 5):\n",
    "            for l in range(2, 6):\n",
    "                generalized_data = adult_data.copy()\n",
    "                generalized_data = generalize_QIs(generalized_data, i, j, k, l)\n",
    "                \n",
    "                # Check if the dataset meets the k-anonymity requirement\n",
    "                is_k_anonymous_le_50k, table_le_50k= check_k_anonymity_le50(generalized_data, k1)\n",
    "                is_k_anonymous_gt_50k, table_gt_50k= check_k_anonymity_gt50(generalized_data, k2)\n",
    "\n",
    "                if is_k_anonymous_le_50k:\n",
    "                    table_le_50k.to_csv(f'hw1-1-generalized_data_le_50k_{i}_{j}_{k}_{l}.csv', index=False)\n",
    "                    print(f'Generalization levels for <=50k dataset: Race={i}, Education={j}, Marital Status={k}, Age={l}')\n",
    "                    gen_levels_le_50k = [i, j, k, l]\n",
    "                    found = True\n",
    "                    break\n",
    "            if found:\n",
    "                break\n",
    "        if found:\n",
    "            break\n",
    "    if found:\n",
    "        break"
   ]
  },
  {
   "cell_type": "markdown",
   "metadata": {},
   "source": [
    "Generalizing the data with salary of >50k while meeting the k-anonymity requirements"
   ]
  },
  {
   "cell_type": "code",
   "execution_count": 32,
   "metadata": {},
   "outputs": [
    {
     "name": "stdout",
     "output_type": "stream",
     "text": [
      "Generalization levels for >50k dataset: Race=3, Education=3, Marital Status=4, Age=5\n"
     ]
    }
   ],
   "source": [
    "found = False\n",
    "for i in range(2, 6):\n",
    "    for j in range(2, 6):\n",
    "        for k in range(2, 5):\n",
    "            for l in range(2, 6):\n",
    "                generalized_data = adult_data.copy()\n",
    "                generalized_data = generalize_QIs(generalized_data, i, j, k, l)\n",
    "                \n",
    "                # Check if the dataset meets the k-anonymity requirement\n",
    "                is_k_anonymous_gt_50k, table_gt_50k= check_k_anonymity_gt50(generalized_data, k2)\n",
    "\n",
    "                if is_k_anonymous_gt_50k:\n",
    "                    table_gt_50k.to_csv(f'hw1-1-generalized_data_gt_50k_{i}_{j}_{k}_{l}.csv', index=False)\n",
    "                    print(f'Generalization levels for >50k dataset: Race={i}, Education={j}, Marital Status={k}, Age={l}')\n",
    "                    gen_levels_gt_50k = [i, j, k, l]\n",
    "                    found = True\n",
    "                    break\n",
    "            if found:\n",
    "                break\n",
    "        if found:\n",
    "            break\n",
    "    if found:\n",
    "        break"
   ]
  },
  {
   "cell_type": "code",
   "execution_count": 33,
   "metadata": {},
   "outputs": [
    {
     "name": "stdout",
     "output_type": "stream",
     "text": [
      "Is k-anonymous: True for <=50k dataset\n"
     ]
    }
   ],
   "source": [
    "print(f'Is k-anonymous: {is_k_anonymous_le_50k} for <=50k dataset')"
   ]
  },
  {
   "cell_type": "code",
   "execution_count": 34,
   "metadata": {},
   "outputs": [
    {
     "name": "stdout",
     "output_type": "stream",
     "text": [
      "Is k-anonymous: True for >50k dataset\n"
     ]
    }
   ],
   "source": [
    "print(f'Is k-anonymous: {is_k_anonymous_gt_50k} for >50k dataset')"
   ]
  },
  {
   "cell_type": "code",
   "execution_count": 35,
   "metadata": {},
   "outputs": [
    {
     "name": "stdout",
     "output_type": "stream",
     "text": [
      "Table for users with salaries ≤ 50K:\n"
     ]
    },
    {
     "data": {
      "text/html": [
       "<div>\n",
       "<style scoped>\n",
       "    .dataframe tbody tr th:only-of-type {\n",
       "        vertical-align: middle;\n",
       "    }\n",
       "\n",
       "    .dataframe tbody tr th {\n",
       "        vertical-align: top;\n",
       "    }\n",
       "\n",
       "    .dataframe thead th {\n",
       "        text-align: right;\n",
       "    }\n",
       "</style>\n",
       "<table border=\"1\" class=\"dataframe\">\n",
       "  <thead>\n",
       "    <tr style=\"text-align: right;\">\n",
       "      <th></th>\n",
       "      <th>age</th>\n",
       "      <th>workclass</th>\n",
       "      <th>fnlwgt</th>\n",
       "      <th>education</th>\n",
       "      <th>education_num</th>\n",
       "      <th>marital_status</th>\n",
       "      <th>occupation</th>\n",
       "      <th>relationship</th>\n",
       "      <th>race</th>\n",
       "      <th>sex</th>\n",
       "      <th>capital_gain</th>\n",
       "      <th>capital_loss</th>\n",
       "      <th>hours_per_week</th>\n",
       "      <th>native_country</th>\n",
       "      <th>salary</th>\n",
       "    </tr>\n",
       "  </thead>\n",
       "  <tbody>\n",
       "    <tr>\n",
       "      <th>0</th>\n",
       "      <td>All Ages</td>\n",
       "      <td>State-gov</td>\n",
       "      <td>77516</td>\n",
       "      <td>Undergraduate School</td>\n",
       "      <td>13</td>\n",
       "      <td>Not-Married</td>\n",
       "      <td>Adm-clerical</td>\n",
       "      <td>Not-in-family</td>\n",
       "      <td>Western Origin</td>\n",
       "      <td>Male</td>\n",
       "      <td>2174</td>\n",
       "      <td>0</td>\n",
       "      <td>40</td>\n",
       "      <td>United-States</td>\n",
       "      <td>&lt;=50K</td>\n",
       "    </tr>\n",
       "    <tr>\n",
       "      <th>1</th>\n",
       "      <td>All Ages</td>\n",
       "      <td>Self-emp-not-inc</td>\n",
       "      <td>83311</td>\n",
       "      <td>Undergraduate School</td>\n",
       "      <td>13</td>\n",
       "      <td>Married</td>\n",
       "      <td>Exec-managerial</td>\n",
       "      <td>Husband</td>\n",
       "      <td>Western Origin</td>\n",
       "      <td>Male</td>\n",
       "      <td>0</td>\n",
       "      <td>0</td>\n",
       "      <td>13</td>\n",
       "      <td>United-States</td>\n",
       "      <td>&lt;=50K</td>\n",
       "    </tr>\n",
       "    <tr>\n",
       "      <th>2</th>\n",
       "      <td>All Ages</td>\n",
       "      <td>Private</td>\n",
       "      <td>215646</td>\n",
       "      <td>High School</td>\n",
       "      <td>9</td>\n",
       "      <td>Not-Married</td>\n",
       "      <td>Handlers-cleaners</td>\n",
       "      <td>Not-in-family</td>\n",
       "      <td>Western Origin</td>\n",
       "      <td>Male</td>\n",
       "      <td>0</td>\n",
       "      <td>0</td>\n",
       "      <td>40</td>\n",
       "      <td>United-States</td>\n",
       "      <td>&lt;=50K</td>\n",
       "    </tr>\n",
       "    <tr>\n",
       "      <th>3</th>\n",
       "      <td>All Ages</td>\n",
       "      <td>Private</td>\n",
       "      <td>234721</td>\n",
       "      <td>High School</td>\n",
       "      <td>7</td>\n",
       "      <td>Married</td>\n",
       "      <td>Handlers-cleaners</td>\n",
       "      <td>Husband</td>\n",
       "      <td>Western Origin</td>\n",
       "      <td>Male</td>\n",
       "      <td>0</td>\n",
       "      <td>0</td>\n",
       "      <td>40</td>\n",
       "      <td>United-States</td>\n",
       "      <td>&lt;=50K</td>\n",
       "    </tr>\n",
       "    <tr>\n",
       "      <th>4</th>\n",
       "      <td>All Ages</td>\n",
       "      <td>Private</td>\n",
       "      <td>338409</td>\n",
       "      <td>Undergraduate School</td>\n",
       "      <td>13</td>\n",
       "      <td>Married</td>\n",
       "      <td>Prof-specialty</td>\n",
       "      <td>Wife</td>\n",
       "      <td>Western Origin</td>\n",
       "      <td>Female</td>\n",
       "      <td>0</td>\n",
       "      <td>0</td>\n",
       "      <td>40</td>\n",
       "      <td>Cuba</td>\n",
       "      <td>&lt;=50K</td>\n",
       "    </tr>\n",
       "    <tr>\n",
       "      <th>...</th>\n",
       "      <td>...</td>\n",
       "      <td>...</td>\n",
       "      <td>...</td>\n",
       "      <td>...</td>\n",
       "      <td>...</td>\n",
       "      <td>...</td>\n",
       "      <td>...</td>\n",
       "      <td>...</td>\n",
       "      <td>...</td>\n",
       "      <td>...</td>\n",
       "      <td>...</td>\n",
       "      <td>...</td>\n",
       "      <td>...</td>\n",
       "      <td>...</td>\n",
       "      <td>...</td>\n",
       "    </tr>\n",
       "    <tr>\n",
       "      <th>32553</th>\n",
       "      <td>All Ages</td>\n",
       "      <td>Private</td>\n",
       "      <td>116138</td>\n",
       "      <td>Graduate School</td>\n",
       "      <td>14</td>\n",
       "      <td>Not-Married</td>\n",
       "      <td>Tech-support</td>\n",
       "      <td>Not-in-family</td>\n",
       "      <td>Non-Western Origin</td>\n",
       "      <td>Male</td>\n",
       "      <td>0</td>\n",
       "      <td>0</td>\n",
       "      <td>11</td>\n",
       "      <td>Taiwan</td>\n",
       "      <td>&lt;=50K</td>\n",
       "    </tr>\n",
       "    <tr>\n",
       "      <th>32555</th>\n",
       "      <td>All Ages</td>\n",
       "      <td>Private</td>\n",
       "      <td>310152</td>\n",
       "      <td>Vocational School</td>\n",
       "      <td>10</td>\n",
       "      <td>Not-Married</td>\n",
       "      <td>Protective-serv</td>\n",
       "      <td>Not-in-family</td>\n",
       "      <td>Western Origin</td>\n",
       "      <td>Male</td>\n",
       "      <td>0</td>\n",
       "      <td>0</td>\n",
       "      <td>40</td>\n",
       "      <td>United-States</td>\n",
       "      <td>&lt;=50K</td>\n",
       "    </tr>\n",
       "    <tr>\n",
       "      <th>32556</th>\n",
       "      <td>All Ages</td>\n",
       "      <td>Private</td>\n",
       "      <td>257302</td>\n",
       "      <td>Undergraduate School</td>\n",
       "      <td>12</td>\n",
       "      <td>Married</td>\n",
       "      <td>Tech-support</td>\n",
       "      <td>Wife</td>\n",
       "      <td>Western Origin</td>\n",
       "      <td>Female</td>\n",
       "      <td>0</td>\n",
       "      <td>0</td>\n",
       "      <td>38</td>\n",
       "      <td>United-States</td>\n",
       "      <td>&lt;=50K</td>\n",
       "    </tr>\n",
       "    <tr>\n",
       "      <th>32558</th>\n",
       "      <td>All Ages</td>\n",
       "      <td>Private</td>\n",
       "      <td>151910</td>\n",
       "      <td>High School</td>\n",
       "      <td>9</td>\n",
       "      <td>Not-Married</td>\n",
       "      <td>Adm-clerical</td>\n",
       "      <td>Unmarried</td>\n",
       "      <td>Western Origin</td>\n",
       "      <td>Female</td>\n",
       "      <td>0</td>\n",
       "      <td>0</td>\n",
       "      <td>40</td>\n",
       "      <td>United-States</td>\n",
       "      <td>&lt;=50K</td>\n",
       "    </tr>\n",
       "    <tr>\n",
       "      <th>32559</th>\n",
       "      <td>All Ages</td>\n",
       "      <td>Private</td>\n",
       "      <td>201490</td>\n",
       "      <td>High School</td>\n",
       "      <td>9</td>\n",
       "      <td>Not-Married</td>\n",
       "      <td>Adm-clerical</td>\n",
       "      <td>Own-child</td>\n",
       "      <td>Western Origin</td>\n",
       "      <td>Male</td>\n",
       "      <td>0</td>\n",
       "      <td>0</td>\n",
       "      <td>20</td>\n",
       "      <td>United-States</td>\n",
       "      <td>&lt;=50K</td>\n",
       "    </tr>\n",
       "  </tbody>\n",
       "</table>\n",
       "<p>24720 rows × 15 columns</p>\n",
       "</div>"
      ],
      "text/plain": [
       "            age          workclass  fnlwgt             education  \\\n",
       "0      All Ages          State-gov   77516  Undergraduate School   \n",
       "1      All Ages   Self-emp-not-inc   83311  Undergraduate School   \n",
       "2      All Ages            Private  215646           High School   \n",
       "3      All Ages            Private  234721           High School   \n",
       "4      All Ages            Private  338409  Undergraduate School   \n",
       "...         ...                ...     ...                   ...   \n",
       "32553  All Ages            Private  116138       Graduate School   \n",
       "32555  All Ages            Private  310152     Vocational School   \n",
       "32556  All Ages            Private  257302  Undergraduate School   \n",
       "32558  All Ages            Private  151910           High School   \n",
       "32559  All Ages            Private  201490           High School   \n",
       "\n",
       "       education_num marital_status          occupation    relationship  \\\n",
       "0                 13    Not-Married        Adm-clerical   Not-in-family   \n",
       "1                 13        Married     Exec-managerial         Husband   \n",
       "2                  9    Not-Married   Handlers-cleaners   Not-in-family   \n",
       "3                  7        Married   Handlers-cleaners         Husband   \n",
       "4                 13        Married      Prof-specialty            Wife   \n",
       "...              ...            ...                 ...             ...   \n",
       "32553             14    Not-Married        Tech-support   Not-in-family   \n",
       "32555             10    Not-Married     Protective-serv   Not-in-family   \n",
       "32556             12        Married        Tech-support            Wife   \n",
       "32558              9    Not-Married        Adm-clerical       Unmarried   \n",
       "32559              9    Not-Married        Adm-clerical       Own-child   \n",
       "\n",
       "                     race      sex  capital_gain  capital_loss  \\\n",
       "0          Western Origin     Male          2174             0   \n",
       "1          Western Origin     Male             0             0   \n",
       "2          Western Origin     Male             0             0   \n",
       "3          Western Origin     Male             0             0   \n",
       "4          Western Origin   Female             0             0   \n",
       "...                   ...      ...           ...           ...   \n",
       "32553  Non-Western Origin     Male             0             0   \n",
       "32555      Western Origin     Male             0             0   \n",
       "32556      Western Origin   Female             0             0   \n",
       "32558      Western Origin   Female             0             0   \n",
       "32559      Western Origin     Male             0             0   \n",
       "\n",
       "       hours_per_week  native_country  salary  \n",
       "0                  40   United-States   <=50K  \n",
       "1                  13   United-States   <=50K  \n",
       "2                  40   United-States   <=50K  \n",
       "3                  40   United-States   <=50K  \n",
       "4                  40            Cuba   <=50K  \n",
       "...               ...             ...     ...  \n",
       "32553              11          Taiwan   <=50K  \n",
       "32555              40   United-States   <=50K  \n",
       "32556              38   United-States   <=50K  \n",
       "32558              40   United-States   <=50K  \n",
       "32559              20   United-States   <=50K  \n",
       "\n",
       "[24720 rows x 15 columns]"
      ]
     },
     "execution_count": 35,
     "metadata": {},
     "output_type": "execute_result"
    }
   ],
   "source": [
    "print(\"Table for users with salaries ≤ 50K:\")\n",
    "\n",
    "table_le_50k"
   ]
  },
  {
   "cell_type": "code",
   "execution_count": 36,
   "metadata": {},
   "outputs": [
    {
     "name": "stdout",
     "output_type": "stream",
     "text": [
      "\n",
      " Q* block counts for users with salaries ≤ 50K:\n",
      "         age             education marital_status                race  counts\n",
      "0   All Ages       Graduate School        Married  Non-Western Origin      40\n",
      "1   All Ages       Graduate School        Married      Western Origin     269\n",
      "2   All Ages       Graduate School    Not-Married  Non-Western Origin      24\n",
      "3   All Ages       Graduate School    Not-Married      Western Origin     538\n",
      "4   All Ages           High School        Married  Non-Western Origin     214\n",
      "5   All Ages           High School        Married      Western Origin    4504\n",
      "6   All Ages           High School    Not-Married  Non-Western Origin     267\n",
      "7   All Ages           High School    Not-Married      Western Origin    6227\n",
      "8   All Ages         Middle School        Married  Non-Western Origin      35\n",
      "9   All Ages         Middle School        Married      Western Origin     577\n",
      "10  All Ages         Middle School    Not-Married  Non-Western Origin      23\n",
      "11  All Ages         Middle School    Not-Married      Western Origin     458\n",
      "12  All Ages        Primary School        Married  Non-Western Origin      37\n",
      "13  All Ages        Primary School        Married      Western Origin     279\n",
      "14  All Ages        Primary School    Not-Married  Non-Western Origin      18\n",
      "15  All Ages        Primary School    Not-Married      Western Origin     196\n",
      "16  All Ages  Undergraduate School        Married  Non-Western Origin     101\n",
      "17  All Ages  Undergraduate School        Married      Western Origin    1218\n",
      "18  All Ages  Undergraduate School    Not-Married  Non-Western Origin     166\n",
      "19  All Ages  Undergraduate School    Not-Married      Western Origin    2451\n",
      "20  All Ages     Vocational School        Married  Non-Western Origin     120\n",
      "21  All Ages     Vocational School        Married      Western Origin    2246\n",
      "22  All Ages     Vocational School    Not-Married  Non-Western Origin     239\n",
      "23  All Ages     Vocational School    Not-Married      Western Origin    4473\n"
     ]
    }
   ],
   "source": [
    "# For table_le_50k\n",
    "q_block_counts_le_50k = table_le_50k.groupby(['age', 'education', 'marital_status', 'race']).size().reset_index(name='counts')\n",
    "print(\"\\n Q* block counts for users with salaries ≤ 50K:\")\n",
    "print(q_block_counts_le_50k)\n"
   ]
  },
  {
   "cell_type": "code",
   "execution_count": 37,
   "metadata": {},
   "outputs": [
    {
     "name": "stdout",
     "output_type": "stream",
     "text": [
      "\n",
      " Q* block counts for users with salaries > 50K:\n",
      "         age          education marital_status                race  counts\n",
      "0   All Ages    Advanced Degree        Married  Non-Western Origin      62\n",
      "1   All Ages    Advanced Degree        Married      Western Origin     974\n",
      "2   All Ages    Advanced Degree    Not-Married  Non-Western Origin       7\n",
      "3   All Ages    Advanced Degree    Not-Married      Western Origin     222\n",
      "4   All Ages       Basic Degree        Married  Non-Western Origin     185\n",
      "5   All Ages       Basic Degree        Married      Western Origin    3851\n",
      "6   All Ages       Basic Degree    Not-Married  Non-Western Origin      25\n",
      "7   All Ages       Basic Degree    Not-Married      Western Origin     596\n",
      "8   All Ages  Compulsory School        Married  Non-Western Origin      43\n",
      "9   All Ages  Compulsory School        Married      Western Origin    1687\n",
      "10  All Ages  Compulsory School    Not-Married  Non-Western Origin      15\n",
      "11  All Ages  Compulsory School    Not-Married      Western Origin     174\n"
     ]
    }
   ],
   "source": [
    "\n",
    "# For table_gt_50k\n",
    "q_block_counts_gt_50k = table_gt_50k.groupby(['age', 'education', 'marital_status', 'race']).size().reset_index(name='counts')\n",
    "print(\"\\n Q* block counts for users with salaries > 50K:\")\n",
    "print(q_block_counts_gt_50k)"
   ]
  },
  {
   "cell_type": "code",
   "execution_count": 38,
   "metadata": {},
   "outputs": [
    {
     "name": "stdout",
     "output_type": "stream",
     "text": [
      "Table for users with salaries > 50K:\n"
     ]
    },
    {
     "data": {
      "text/html": [
       "<div>\n",
       "<style scoped>\n",
       "    .dataframe tbody tr th:only-of-type {\n",
       "        vertical-align: middle;\n",
       "    }\n",
       "\n",
       "    .dataframe tbody tr th {\n",
       "        vertical-align: top;\n",
       "    }\n",
       "\n",
       "    .dataframe thead th {\n",
       "        text-align: right;\n",
       "    }\n",
       "</style>\n",
       "<table border=\"1\" class=\"dataframe\">\n",
       "  <thead>\n",
       "    <tr style=\"text-align: right;\">\n",
       "      <th></th>\n",
       "      <th>age</th>\n",
       "      <th>workclass</th>\n",
       "      <th>fnlwgt</th>\n",
       "      <th>education</th>\n",
       "      <th>education_num</th>\n",
       "      <th>marital_status</th>\n",
       "      <th>occupation</th>\n",
       "      <th>relationship</th>\n",
       "      <th>race</th>\n",
       "      <th>sex</th>\n",
       "      <th>capital_gain</th>\n",
       "      <th>capital_loss</th>\n",
       "      <th>hours_per_week</th>\n",
       "      <th>native_country</th>\n",
       "      <th>salary</th>\n",
       "    </tr>\n",
       "  </thead>\n",
       "  <tbody>\n",
       "    <tr>\n",
       "      <th>7</th>\n",
       "      <td>All Ages</td>\n",
       "      <td>Self-emp-not-inc</td>\n",
       "      <td>209642</td>\n",
       "      <td>Compulsory School</td>\n",
       "      <td>9</td>\n",
       "      <td>Married</td>\n",
       "      <td>Exec-managerial</td>\n",
       "      <td>Husband</td>\n",
       "      <td>Western Origin</td>\n",
       "      <td>Male</td>\n",
       "      <td>0</td>\n",
       "      <td>0</td>\n",
       "      <td>45</td>\n",
       "      <td>United-States</td>\n",
       "      <td>&gt;50K</td>\n",
       "    </tr>\n",
       "    <tr>\n",
       "      <th>8</th>\n",
       "      <td>All Ages</td>\n",
       "      <td>Private</td>\n",
       "      <td>45781</td>\n",
       "      <td>Advanced Degree</td>\n",
       "      <td>14</td>\n",
       "      <td>Not-Married</td>\n",
       "      <td>Prof-specialty</td>\n",
       "      <td>Not-in-family</td>\n",
       "      <td>Western Origin</td>\n",
       "      <td>Female</td>\n",
       "      <td>14084</td>\n",
       "      <td>0</td>\n",
       "      <td>50</td>\n",
       "      <td>United-States</td>\n",
       "      <td>&gt;50K</td>\n",
       "    </tr>\n",
       "    <tr>\n",
       "      <th>9</th>\n",
       "      <td>All Ages</td>\n",
       "      <td>Private</td>\n",
       "      <td>159449</td>\n",
       "      <td>Basic Degree</td>\n",
       "      <td>13</td>\n",
       "      <td>Married</td>\n",
       "      <td>Exec-managerial</td>\n",
       "      <td>Husband</td>\n",
       "      <td>Western Origin</td>\n",
       "      <td>Male</td>\n",
       "      <td>5178</td>\n",
       "      <td>0</td>\n",
       "      <td>40</td>\n",
       "      <td>United-States</td>\n",
       "      <td>&gt;50K</td>\n",
       "    </tr>\n",
       "    <tr>\n",
       "      <th>10</th>\n",
       "      <td>All Ages</td>\n",
       "      <td>Private</td>\n",
       "      <td>280464</td>\n",
       "      <td>Basic Degree</td>\n",
       "      <td>10</td>\n",
       "      <td>Married</td>\n",
       "      <td>Exec-managerial</td>\n",
       "      <td>Husband</td>\n",
       "      <td>Western Origin</td>\n",
       "      <td>Male</td>\n",
       "      <td>0</td>\n",
       "      <td>0</td>\n",
       "      <td>80</td>\n",
       "      <td>United-States</td>\n",
       "      <td>&gt;50K</td>\n",
       "    </tr>\n",
       "    <tr>\n",
       "      <th>11</th>\n",
       "      <td>All Ages</td>\n",
       "      <td>State-gov</td>\n",
       "      <td>141297</td>\n",
       "      <td>Basic Degree</td>\n",
       "      <td>13</td>\n",
       "      <td>Married</td>\n",
       "      <td>Prof-specialty</td>\n",
       "      <td>Husband</td>\n",
       "      <td>Non-Western Origin</td>\n",
       "      <td>Male</td>\n",
       "      <td>0</td>\n",
       "      <td>0</td>\n",
       "      <td>40</td>\n",
       "      <td>India</td>\n",
       "      <td>&gt;50K</td>\n",
       "    </tr>\n",
       "    <tr>\n",
       "      <th>...</th>\n",
       "      <td>...</td>\n",
       "      <td>...</td>\n",
       "      <td>...</td>\n",
       "      <td>...</td>\n",
       "      <td>...</td>\n",
       "      <td>...</td>\n",
       "      <td>...</td>\n",
       "      <td>...</td>\n",
       "      <td>...</td>\n",
       "      <td>...</td>\n",
       "      <td>...</td>\n",
       "      <td>...</td>\n",
       "      <td>...</td>\n",
       "      <td>...</td>\n",
       "      <td>...</td>\n",
       "    </tr>\n",
       "    <tr>\n",
       "      <th>32539</th>\n",
       "      <td>All Ages</td>\n",
       "      <td>NaN</td>\n",
       "      <td>287372</td>\n",
       "      <td>Advanced Degree</td>\n",
       "      <td>16</td>\n",
       "      <td>Married</td>\n",
       "      <td>Unknown</td>\n",
       "      <td>Husband</td>\n",
       "      <td>Western Origin</td>\n",
       "      <td>Male</td>\n",
       "      <td>0</td>\n",
       "      <td>0</td>\n",
       "      <td>10</td>\n",
       "      <td>United-States</td>\n",
       "      <td>&gt;50K</td>\n",
       "    </tr>\n",
       "    <tr>\n",
       "      <th>32545</th>\n",
       "      <td>All Ages</td>\n",
       "      <td>Local-gov</td>\n",
       "      <td>111499</td>\n",
       "      <td>Basic Degree</td>\n",
       "      <td>12</td>\n",
       "      <td>Married</td>\n",
       "      <td>Adm-clerical</td>\n",
       "      <td>Wife</td>\n",
       "      <td>Western Origin</td>\n",
       "      <td>Female</td>\n",
       "      <td>0</td>\n",
       "      <td>0</td>\n",
       "      <td>20</td>\n",
       "      <td>United-States</td>\n",
       "      <td>&gt;50K</td>\n",
       "    </tr>\n",
       "    <tr>\n",
       "      <th>32554</th>\n",
       "      <td>All Ages</td>\n",
       "      <td>Private</td>\n",
       "      <td>321865</td>\n",
       "      <td>Advanced Degree</td>\n",
       "      <td>14</td>\n",
       "      <td>Married</td>\n",
       "      <td>Exec-managerial</td>\n",
       "      <td>Husband</td>\n",
       "      <td>Western Origin</td>\n",
       "      <td>Male</td>\n",
       "      <td>0</td>\n",
       "      <td>0</td>\n",
       "      <td>40</td>\n",
       "      <td>United-States</td>\n",
       "      <td>&gt;50K</td>\n",
       "    </tr>\n",
       "    <tr>\n",
       "      <th>32557</th>\n",
       "      <td>All Ages</td>\n",
       "      <td>Private</td>\n",
       "      <td>154374</td>\n",
       "      <td>Compulsory School</td>\n",
       "      <td>9</td>\n",
       "      <td>Married</td>\n",
       "      <td>Machine-op-inspct</td>\n",
       "      <td>Husband</td>\n",
       "      <td>Western Origin</td>\n",
       "      <td>Male</td>\n",
       "      <td>0</td>\n",
       "      <td>0</td>\n",
       "      <td>40</td>\n",
       "      <td>United-States</td>\n",
       "      <td>&gt;50K</td>\n",
       "    </tr>\n",
       "    <tr>\n",
       "      <th>32560</th>\n",
       "      <td>All Ages</td>\n",
       "      <td>Self-emp-inc</td>\n",
       "      <td>287927</td>\n",
       "      <td>Compulsory School</td>\n",
       "      <td>9</td>\n",
       "      <td>Married</td>\n",
       "      <td>Exec-managerial</td>\n",
       "      <td>Wife</td>\n",
       "      <td>Western Origin</td>\n",
       "      <td>Female</td>\n",
       "      <td>15024</td>\n",
       "      <td>0</td>\n",
       "      <td>40</td>\n",
       "      <td>United-States</td>\n",
       "      <td>&gt;50K</td>\n",
       "    </tr>\n",
       "  </tbody>\n",
       "</table>\n",
       "<p>7841 rows × 15 columns</p>\n",
       "</div>"
      ],
      "text/plain": [
       "            age          workclass  fnlwgt          education  education_num  \\\n",
       "7      All Ages   Self-emp-not-inc  209642  Compulsory School              9   \n",
       "8      All Ages            Private   45781    Advanced Degree             14   \n",
       "9      All Ages            Private  159449       Basic Degree             13   \n",
       "10     All Ages            Private  280464       Basic Degree             10   \n",
       "11     All Ages          State-gov  141297       Basic Degree             13   \n",
       "...         ...                ...     ...                ...            ...   \n",
       "32539  All Ages                NaN  287372    Advanced Degree             16   \n",
       "32545  All Ages          Local-gov  111499       Basic Degree             12   \n",
       "32554  All Ages            Private  321865    Advanced Degree             14   \n",
       "32557  All Ages            Private  154374  Compulsory School              9   \n",
       "32560  All Ages       Self-emp-inc  287927  Compulsory School              9   \n",
       "\n",
       "      marital_status          occupation    relationship                race  \\\n",
       "7            Married     Exec-managerial         Husband      Western Origin   \n",
       "8        Not-Married      Prof-specialty   Not-in-family      Western Origin   \n",
       "9            Married     Exec-managerial         Husband      Western Origin   \n",
       "10           Married     Exec-managerial         Husband      Western Origin   \n",
       "11           Married      Prof-specialty         Husband  Non-Western Origin   \n",
       "...              ...                 ...             ...                 ...   \n",
       "32539        Married             Unknown         Husband      Western Origin   \n",
       "32545        Married        Adm-clerical            Wife      Western Origin   \n",
       "32554        Married     Exec-managerial         Husband      Western Origin   \n",
       "32557        Married   Machine-op-inspct         Husband      Western Origin   \n",
       "32560        Married     Exec-managerial            Wife      Western Origin   \n",
       "\n",
       "           sex  capital_gain  capital_loss  hours_per_week  native_country  \\\n",
       "7         Male             0             0              45   United-States   \n",
       "8       Female         14084             0              50   United-States   \n",
       "9         Male          5178             0              40   United-States   \n",
       "10        Male             0             0              80   United-States   \n",
       "11        Male             0             0              40           India   \n",
       "...        ...           ...           ...             ...             ...   \n",
       "32539     Male             0             0              10   United-States   \n",
       "32545   Female             0             0              20   United-States   \n",
       "32554     Male             0             0              40   United-States   \n",
       "32557     Male             0             0              40   United-States   \n",
       "32560   Female         15024             0              40   United-States   \n",
       "\n",
       "      salary  \n",
       "7       >50K  \n",
       "8       >50K  \n",
       "9       >50K  \n",
       "10      >50K  \n",
       "11      >50K  \n",
       "...      ...  \n",
       "32539   >50K  \n",
       "32545   >50K  \n",
       "32554   >50K  \n",
       "32557   >50K  \n",
       "32560   >50K  \n",
       "\n",
       "[7841 rows x 15 columns]"
      ]
     },
     "execution_count": 38,
     "metadata": {},
     "output_type": "execute_result"
    }
   ],
   "source": [
    "print(\"Table for users with salaries > 50K:\")\n",
    "\n",
    "table_gt_50k"
   ]
  },
  {
   "cell_type": "code",
   "execution_count": 39,
   "metadata": {},
   "outputs": [
    {
     "name": "stdout",
     "output_type": "stream",
     "text": [
      "All Q* blocks for users with salaries ≤ 50K meet the k-anonymity requirement.\n",
      "All Q* blocks for users with salaries > 50K meet the k-anonymity requirement.\n"
     ]
    }
   ],
   "source": [
    "# Verify group sizes for users with salaries ≤ 50K\n",
    "if (q_block_counts_le_50k['counts'] >= k1).all():\n",
    "    print(\"All Q* blocks for users with salaries ≤ 50K meet the k-anonymity requirement.\")\n",
    "else:\n",
    "    print(\"Some Q* blocks for users with salaries ≤ 50K do not meet the k-anonymity requirement.\")\n",
    "\n",
    "# Verify group sizes for users with salaries > 50K\n",
    "if (q_block_counts_gt_50k['counts'] >= k2).all():\n",
    "    print(\"All Q* blocks for users with salaries > 50K meet the k-anonymity requirement.\")\n",
    "else:\n",
    "    print(\"Some Q* blocks for users with salaries > 50K do not meet the k-anonymity requirement.\")"
   ]
  },
  {
   "cell_type": "markdown",
   "metadata": {},
   "source": [
    "Calculate the distortion and precision"
   ]
  },
  {
   "cell_type": "code",
   "execution_count": 40,
   "metadata": {},
   "outputs": [],
   "source": [
    "num_attr = len(table_gt_50k.columns)"
   ]
  },
  {
   "cell_type": "code",
   "execution_count": 41,
   "metadata": {},
   "outputs": [
    {
     "data": {
      "text/plain": [
       "15"
      ]
     },
     "execution_count": 41,
     "metadata": {},
     "output_type": "execute_result"
    }
   ],
   "source": [
    "len(table_le_50k.columns)"
   ]
  },
  {
   "cell_type": "code",
   "execution_count": 42,
   "metadata": {},
   "outputs": [
    {
     "data": {
      "text/plain": [
       "15"
      ]
     },
     "execution_count": 42,
     "metadata": {},
     "output_type": "execute_result"
    }
   ],
   "source": [
    "len(generalized_data.columns)"
   ]
  },
  {
   "cell_type": "markdown",
   "metadata": {},
   "source": [
    "Calculate the distortion\n"
   ]
  },
  {
   "cell_type": "code",
   "execution_count": 65,
   "metadata": {},
   "outputs": [],
   "source": [
    "def calculate_distortion(gen_levels):\n",
    "    # For all atributes: generalization level / max generalization level\n",
    "    sum_of_generalizations = gen_levels[0]/5 + gen_levels[1]/4 + gen_levels[2]/5 + gen_levels[3]/5 # the order: educationLevel, maritalStatusLevel, raceLevel, ageLevel\n",
    "    sum_of_generalizations = sum_of_generalizations + (15 - 4) # Add the genralization level of the other attributes/columns which are 1's\n",
    "    return sum_of_generalizations / num_attr\n"
   ]
  },
  {
   "cell_type": "code",
   "execution_count": 66,
   "metadata": {},
   "outputs": [
    {
     "name": "stdout",
     "output_type": "stream",
     "text": [
      "Distortion for data >50k: 0.9433333333333334\n"
     ]
    }
   ],
   "source": [
    "print(f'Distortion for data >50k: {calculate_distortion(gen_levels_gt_50k)}')"
   ]
  },
  {
   "cell_type": "code",
   "execution_count": 67,
   "metadata": {},
   "outputs": [
    {
     "name": "stdout",
     "output_type": "stream",
     "text": [
      "Distortion for data <=50k: 0.9299999999999999\n"
     ]
    }
   ],
   "source": [
    "print(f'Distortion for data <=50k: {calculate_distortion(gen_levels_le_50k)}')"
   ]
  },
  {
   "cell_type": "markdown",
   "metadata": {},
   "source": [
    "On average, the attributes have been generalized to about 94.33% of their maximum generalization levels."
   ]
  },
  {
   "cell_type": "markdown",
   "metadata": {},
   "source": [
    "Calculate precision"
   ]
  },
  {
   "cell_type": "code",
   "execution_count": 68,
   "metadata": {},
   "outputs": [
    {
     "data": {
      "text/plain": [
       "7841"
      ]
     },
     "execution_count": 68,
     "metadata": {},
     "output_type": "execute_result"
    }
   ],
   "source": [
    "table_gt_50k_len = len(table_gt_50k.index)\n",
    "table_gt_50k_len"
   ]
  },
  {
   "cell_type": "code",
   "execution_count": 69,
   "metadata": {},
   "outputs": [
    {
     "data": {
      "text/plain": [
       "24720"
      ]
     },
     "execution_count": 69,
     "metadata": {},
     "output_type": "execute_result"
    }
   ],
   "source": [
    "table_le_50k_len = len(table_le_50k.index)\n",
    "table_le_50k_len"
   ]
  },
  {
   "cell_type": "code",
   "execution_count": 70,
   "metadata": {},
   "outputs": [
    {
     "name": "stdout",
     "output_type": "stream",
     "text": [
      "Precision for <=50k dataset: 0.4374999999995748\n"
     ]
    }
   ],
   "source": [
    "def calculate_precision(data, generalization_levels, hierarchy_depths):\n",
    "    \"\"\"\n",
    "    Calculate the precision.\n",
    "    \n",
    "    :param data: pandas DataFrame of the dataset\n",
    "    :param generalization_levels: Dictionary of generalization levels for each attribute\n",
    "    :param hierarchy_depths: Dictionary of the depth of the value generalization hierarchy for each attribute\n",
    "    :return: Precision value\n",
    "    \"\"\"\n",
    "    N_A = len(generalization_levels)  # Number of QI attributes\n",
    "    PT = len(data.index)  # Total number of records\n",
    "    sum_generalization_height = 0\n",
    "\n",
    "    # Calculate the total generalization height normalized by the depth of the hierarchy\n",
    "    for attribute, level in generalization_levels.items():\n",
    "        depth = hierarchy_depths[attribute]\n",
    "        for _ in range(PT):  # The generalization level is uniform across all records\n",
    "            sum_generalization_height += level / depth\n",
    "\n",
    "    precision = 1 - (sum_generalization_height / (PT * N_A))\n",
    "    return precision\n",
    "\n",
    "generalization_levels_le50k = {\n",
    "    'age': 3,\n",
    "    'education': 3, \n",
    "    'marital_status': 2, \n",
    "    'race': 2 \n",
    "}\n",
    "hierarchy_depths = {\n",
    "    'age': 5, \n",
    "    'education': 4,\n",
    "    'marital_status': 4,\n",
    "    'race': 5 \n",
    "}\n",
    "\n",
    "precision_value = calculate_precision(table_le_50k, generalization_levels_le50k, hierarchy_depths)\n",
    "print(f'Precision for <=50k dataset: {precision_value}')\n"
   ]
  },
  {
   "cell_type": "code",
   "execution_count": 71,
   "metadata": {},
   "outputs": [
    {
     "name": "stdout",
     "output_type": "stream",
     "text": [
      "Precision for >50K dataset: 0.1625000000003638\n"
     ]
    }
   ],
   "source": [
    "generalization_levels_gt50k = {\n",
    "    'age': 5,\n",
    "    'education': 3,\n",
    "    'marital_status': 4,\n",
    "    'race': 3\n",
    "}\n",
    "\n",
    "precision_value = calculate_precision(table_gt_50k, generalization_levels_gt50k, hierarchy_depths)\n",
    "print(f'Precision for >50K dataset: {precision_value}')"
   ]
  },
  {
   "cell_type": "markdown",
   "metadata": {},
   "source": [
    "Calculate entropy and l-diversity"
   ]
  },
  {
   "cell_type": "code",
   "execution_count": 72,
   "metadata": {},
   "outputs": [
    {
     "name": "stdout",
     "output_type": "stream",
     "text": [
      "Checking >50K dataset for l-diversity:\n",
      "Group ('All Ages', 'Advanced Degree', 'Married', 'Non-Western Origin') fails to meet the entropy l-diversity with entropy 1.0453\n",
      "Group ('All Ages', 'Advanced Degree', 'Not-Married', 'Non-Western Origin') fails to meet the entropy l-diversity with entropy 0.6829\n",
      "2 groups fail to meet the l-diversity requirement.\n"
     ]
    }
   ],
   "source": [
    "def calculate_entropy(group):\n",
    "    \"\"\" Calculate entropy for a single group of records \"\"\"\n",
    "    if len(group) == 0:\n",
    "        return 0\n",
    "    value_counts = group.value_counts()\n",
    "    probabilities = value_counts / value_counts.sum()\n",
    "    entropy = -np.sum(probabilities * np.log(probabilities))\n",
    "    return entropy\n",
    "\n",
    "def check_l_diversity(data, l):\n",
    "    \"\"\" Check if the dataset satisfies l-diversity \"\"\"\n",
    "    entropy_threshold = math.log(l)  # Define the minimum entropy threshold\n",
    "    fails = 0  # Track number of failures\n",
    "    \n",
    "    # Group data by QIs and calculate entropy for each group\n",
    "    grouped = data.groupby(['age', 'education', 'marital_status', 'race'])\n",
    "    for name, group in grouped:\n",
    "        entropy = calculate_entropy(group['occupation'])\n",
    "        if entropy < entropy_threshold:\n",
    "            print(f'Group {name} fails to meet the entropy l-diversity with entropy {entropy:.4f}')\n",
    "            fails += 1\n",
    "    if fails == 0:\n",
    "        print(\"All groups meet the l-diversity requirement.\")\n",
    "        return True\n",
    "    else:\n",
    "        print(f\"{fails} groups fail to meet the l-diversity requirement.\")\n",
    "        return False\n",
    "\n",
    "l = 3\n",
    "print(\"Checking >50K dataset for l-diversity:\")\n",
    "satisfied_l_diversity_gt_50k = check_l_diversity(table_gt_50k, l)\n"
   ]
  },
  {
   "cell_type": "code",
   "execution_count": 73,
   "metadata": {},
   "outputs": [
    {
     "name": "stdout",
     "output_type": "stream",
     "text": [
      "Checking <=50K dataset for l-diversity:\n",
      "All groups meet the l-diversity requirement.\n"
     ]
    }
   ],
   "source": [
    "print(\"Checking <=50K dataset for l-diversity:\")\n",
    "satisfied_l_diversity_le_50k = check_l_diversity(table_le_50k, l)"
   ]
  },
  {
   "cell_type": "markdown",
   "metadata": {},
   "source": [
    "Increase the generalization level for a specific attribute, say 'education' in table_gt_50k"
   ]
  },
  {
   "cell_type": "code",
   "execution_count": 139,
   "metadata": {},
   "outputs": [],
   "source": [
    "# Dictionary to map DataFrames to their names\n",
    "dataframe_names = {\n",
    "    id(table_gt_50k): 'table_gt_50k',\n",
    "    id(table_le_50k): 'table_le_50k'\n",
    "}\n",
    "\n",
    "# Conditionally add DataFrames if they exist\n",
    "try:\n",
    "    generalized_data_gt_50k_adjusted\n",
    "except NameError:\n",
    "    generalized_data_gt_50k_adjusted = None\n",
    "\n",
    "try:\n",
    "    generalized_data_le_50k_adjusted\n",
    "except NameError:\n",
    "    generalized_data_le_50k_adjusted = None\n",
    "\n",
    "if generalized_data_gt_50k_adjusted is not None:\n",
    "    dataframe_names[id(generalized_data_gt_50k_adjusted)] = 'generalized_data_gt_50k_adjusted'\n",
    "\n",
    "if generalized_data_le_50k_adjusted is not None:\n",
    "    dataframe_names[id(generalized_data_le_50k_adjusted)] = 'generalized_data_le_50k_adjusted'"
   ]
  },
  {
   "cell_type": "code",
   "execution_count": 140,
   "metadata": {},
   "outputs": [
    {
     "name": "stdout",
     "output_type": "stream",
     "text": [
      "Rechecking >50K dataset for l-diversity after adjustment:\n",
      "All groups meet the l-diversity requirement.\n"
     ]
    }
   ],
   "source": [
    "def apply_adjusted_generalization(data, attribute, condition_value, generalization_function, condition_attribute='race', generalization_level=4):\n",
    "    \"\"\"\n",
    "    Apply generalization based on a condition on the attribute.\n",
    "    \n",
    "    :param data: pandas DataFrame to generalize.\n",
    "    :param attribute: Attribute to generalize (e.g., 'education').\n",
    "    :param condition_value: Value in the condition_attribute to apply the generalization on.\n",
    "    :param generalization_function: Function to generalize the attribute (e.g., generalize_education).\n",
    "    :param condition_attribute: Attribute to apply the condition on (e.g., 'race'). Defaults to 'race'.\n",
    "    :param generalization_level: The level of generalization to apply.\n",
    "    :return: DataFrame with the applied generalization.\n",
    "    \"\"\"\n",
    "    data[attribute] = data.apply(lambda row: generalization_function(row[attribute], generalization_level) \n",
    "                                 if row[condition_attribute] == condition_value else row[attribute], axis=1)\n",
    "    data_name = dataframe_names.get(id(data))\n",
    "    if data_name == 'table_gt_50k' or data_name == 'generalized_data_gt_50k_adjusted':\n",
    "        generalization_levels_gt50k[attribute] = generalization_level\n",
    "    elif data_name == 'table_le_50k' or data_name == 'generalized_data_le_50k_adjusted':\n",
    "        generalization_levels_le50k[attribute] = generalization_level\n",
    "    return data\n",
    "\n",
    "\n",
    "# Apply adjusted generalization\n",
    "generalized_data_gt_50k_adjusted = apply_adjusted_generalization(table_gt_50k.copy(), 'education', 'Non-Western Origin', generalize_education)\n",
    "generalization_levels_gt50k['education'] = 4  # Update the generalization level\n",
    "\n",
    "# Check l-diversity again\n",
    "print(\"Rechecking >50K dataset for l-diversity after adjustment:\")\n",
    "satisfied_l_diversity_gt_50k_adjusted = check_l_diversity(generalized_data_gt_50k_adjusted, l)\n",
    "# Save the adjusted dataset\n",
    "generalized_data_gt_50k_adjusted.to_csv('hw1-1-generalized_data_gt_50k_adjusted_for_lDiversity.csv', index=False)\n"
   ]
  },
  {
   "cell_type": "markdown",
   "metadata": {},
   "source": [
    "Calculate Recursive (c, ℓ)-diversity"
   ]
  },
  {
   "cell_type": "code",
   "execution_count": 141,
   "metadata": {},
   "outputs": [],
   "source": [
    "def check_recursive_diversity(data, l, c, attribute_groups, detailed=False):\n",
    "    all_diverse = True\n",
    "    failed_groups = []\n",
    "    for name, group in data.groupby(attribute_groups):\n",
    "        occupation_counts = group['occupation'].value_counts()\n",
    "        if len(occupation_counts) < l:\n",
    "            if detailed:\n",
    "                failed_groups.append(name)\n",
    "            all_diverse = False\n",
    "            continue\n",
    "        \n",
    "        sorted_counts = occupation_counts.sort_values(ascending=False)\n",
    "        threshold = c * sorted_counts.iloc[l-1] if len(sorted_counts) >= l else 0\n",
    "        if any(sorted_counts.iloc[:l-1] > threshold):\n",
    "            if detailed:\n",
    "                failed_groups.append(name)\n",
    "            all_diverse = False\n",
    "\n",
    "    return all_diverse, failed_groups"
   ]
  },
  {
   "cell_type": "code",
   "execution_count": 142,
   "metadata": {},
   "outputs": [],
   "source": [
    "def auto_adjust_generalization(data, l, c, attribute_groups, max_attempts=10, gt_data=False):\n",
    "    attempts = 0\n",
    "    while attempts < max_attempts:\n",
    "        # Check diversity and get detailed information about failing groups\n",
    "        diverse, failed_groups = check_recursive_diversity(data, l, c, attribute_groups, detailed=True)\n",
    "        \n",
    "        if diverse:\n",
    "            print(\"All groups meet the recursive (c, l)-diversity requirement.\")\n",
    "            break\n",
    "        else:\n",
    "            print(f\"Adjusting generalization levels due to failures in groups: {failed_groups}\")\n",
    "            # Increase generalization for failed groups\n",
    "            for group in failed_groups:\n",
    "                group_conditions = dict(zip(attribute_groups, group))  # Map group attributes to values\n",
    "\n",
    "                # Adjust the generalization based on the specific group that failed\n",
    "                for attribute, value in group_conditions.items():\n",
    "                    current_level = generalization_levels_gt50k[attribute] if gt_data else generalization_levels_le50k[attribute]\n",
    "                    max_depth = hierarchy_depths[attribute]\n",
    "\n",
    "                    if current_level < max_depth:\n",
    "                        new_generalization_level = current_level + 1\n",
    "                        if attribute == 'education':\n",
    "                            apply_adjusted_generalization(\n",
    "                                data, \n",
    "                                attribute='education', \n",
    "                                condition_value=value, \n",
    "                                generalization_function=generalize_education, \n",
    "                                condition_attribute=attribute, \n",
    "                                generalization_level=new_generalization_level  # Increase generalization\n",
    "                            )\n",
    "                            \n",
    "                        elif attribute == 'race':\n",
    "                            apply_adjusted_generalization(\n",
    "                                data, \n",
    "                                attribute='race', \n",
    "                                condition_value=value, \n",
    "                                generalization_function=generalize_race, \n",
    "                                condition_attribute=attribute, \n",
    "                                generalization_level=new_generalization_level \n",
    "                            )\n",
    "                        elif attribute == 'marital_status':\n",
    "                            apply_adjusted_generalization(\n",
    "                                data, \n",
    "                                attribute='marital_status', \n",
    "                                condition_value=value, \n",
    "                                generalization_function=generalize_marital_status, \n",
    "                                condition_attribute=attribute, \n",
    "                                generalization_level=new_generalization_level\n",
    "                            )\n",
    "                        elif attribute == 'age':\n",
    "                            apply_adjusted_generalization(\n",
    "                                data, \n",
    "                                attribute='age', \n",
    "                                condition_value=value, \n",
    "                                generalization_function=generalize_age, \n",
    "                                condition_attribute=attribute, \n",
    "                                generalization_level=new_generalization_level\n",
    "                            )\n",
    "                            \n",
    "                    else:\n",
    "                        print(f\"Attribute {attribute} is already at its maximum generalization level.\")\n",
    "        \n",
    "        attempts += 1\n",
    "    \n",
    "    if attempts == max_attempts:\n",
    "        print(\"Maximum adjustment attempts reached, some groups may still fail the diversity requirements.\")\n"
   ]
  },
  {
   "cell_type": "code",
   "execution_count": 143,
   "metadata": {},
   "outputs": [
    {
     "name": "stdout",
     "output_type": "stream",
     "text": [
      "Adjusting generalization levels due to failures in groups: [('Advanced Degree', 'Western Origin'), ('Basic Degree', 'Western Origin'), ('Compulsory School', 'Non-Western Origin'), ('Compulsory School', 'Western Origin'), ('Education', 'Non-Western Origin')]\n",
      "All groups meet the recursive (c, l)-diversity requirement.\n"
     ]
    }
   ],
   "source": [
    "auto_adjust_generalization(generalized_data_gt_50k_adjusted, l=3, c=0.5, attribute_groups=['education', 'race'])"
   ]
  },
  {
   "cell_type": "code",
   "execution_count": 144,
   "metadata": {},
   "outputs": [
    {
     "name": "stdout",
     "output_type": "stream",
     "text": [
      "All groups meet the recursive (c, l)-diversity requirement.\n"
     ]
    }
   ],
   "source": [
    "auto_adjust_generalization(generalized_data_gt_50k_adjusted, l=3, c=1, attribute_groups=['education', 'race'])"
   ]
  },
  {
   "cell_type": "code",
   "execution_count": 145,
   "metadata": {},
   "outputs": [
    {
     "name": "stdout",
     "output_type": "stream",
     "text": [
      "All groups meet the recursive (c, l)-diversity requirement.\n"
     ]
    }
   ],
   "source": [
    "auto_adjust_generalization(generalized_data_gt_50k_adjusted, l=3, c=2, attribute_groups=['education', 'race'])"
   ]
  },
  {
   "cell_type": "code",
   "execution_count": 146,
   "metadata": {},
   "outputs": [
    {
     "name": "stdout",
     "output_type": "stream",
     "text": [
      "All groups meet the recursive (c, l)-diversity requirement.\n"
     ]
    }
   ],
   "source": [
    "auto_adjust_generalization(table_le_50k, l=3, c=0.5, attribute_groups=['education', 'race'])"
   ]
  },
  {
   "cell_type": "code",
   "execution_count": 147,
   "metadata": {},
   "outputs": [
    {
     "name": "stdout",
     "output_type": "stream",
     "text": [
      "All groups meet the recursive (c, l)-diversity requirement.\n"
     ]
    }
   ],
   "source": [
    "auto_adjust_generalization(table_le_50k, l=3, c=0.1, attribute_groups=['education', 'race'])"
   ]
  },
  {
   "cell_type": "code",
   "execution_count": 148,
   "metadata": {},
   "outputs": [
    {
     "name": "stdout",
     "output_type": "stream",
     "text": [
      "All groups meet the recursive (c, l)-diversity requirement.\n"
     ]
    }
   ],
   "source": [
    "auto_adjust_generalization(table_le_50k, l=3, c=2, attribute_groups=['education', 'race'])"
   ]
  },
  {
   "cell_type": "markdown",
   "metadata": {},
   "source": [
    "Calculate distortion and precision when k=5"
   ]
  },
  {
   "cell_type": "code",
   "execution_count": 152,
   "metadata": {},
   "outputs": [
    {
     "name": "stdout",
     "output_type": "stream",
     "text": [
      "Distortion for data with salary >50k: 0.9600000000000001\n",
      "Distortion for data with salary <=50k: 0.8733333333333333\n"
     ]
    }
   ],
   "source": [
    "# Calculate distortion\n",
    "print(f'Distortion for data with salary >50k: {calculate_distortion([generalization_levels_gt50k[\"education\"], generalization_levels_gt50k[\"marital_status\"], generalization_levels_gt50k[\"race\"], generalization_levels_gt50k[\"age\"]])}') #the order: educationLevel, maritalStatusLevel, raceLevel, ageLevel\n",
    "# Calculate distortion\n",
    "print(f'Distortion for data with salary <=50k: {calculate_distortion([generalization_levels_le50k[\"education\"], generalization_levels_le50k[\"marital_status\"], generalization_levels_le50k[\"race\"], generalization_levels_le50k[\"age\"]])}')"
   ]
  },
  {
   "cell_type": "code",
   "execution_count": 154,
   "metadata": {},
   "outputs": [
    {
     "name": "stdout",
     "output_type": "stream",
     "text": [
      "precision for data with salary >50k:  0.1000000000003638\n",
      "precision for data with salary <=50k:  0.4374999999995748\n"
     ]
    }
   ],
   "source": [
    "print(\"precision for data with salary >50k: \", calculate_precision(generalized_data_gt_50k_adjusted, generalization_levels_gt50k, hierarchy_depths))\n",
    "print(\"precision for data with salary <=50k: \", calculate_precision(table_le_50k, generalization_levels_le50k, hierarchy_depths))"
   ]
  }
 ],
 "metadata": {
  "kernelspec": {
   "display_name": "ahakimi",
   "language": "python",
   "name": "python3"
  },
  "language_info": {
   "codemirror_mode": {
    "name": "ipython",
    "version": 3
   },
   "file_extension": ".py",
   "mimetype": "text/x-python",
   "name": "python",
   "nbconvert_exporter": "python",
   "pygments_lexer": "ipython3",
   "version": "3.12.3"
  }
 },
 "nbformat": 4,
 "nbformat_minor": 2
}
